{
 "cells": [
  {
   "cell_type": "markdown",
   "metadata": {},
   "source": [
    "## Importing the dependencies"
   ]
  },
  {
   "cell_type": "code",
   "execution_count": 1,
   "metadata": {
    "ExecuteTime": {
     "end_time": "2020-06-25T15:49:47.921170Z",
     "start_time": "2020-06-25T15:49:47.917173Z"
    },
    "collapsed": true
   },
   "outputs": [],
   "source": [
    "from warnings import filterwarnings\n",
    "filterwarnings('ignore')"
   ]
  },
  {
   "cell_type": "code",
   "execution_count": 4,
   "metadata": {
    "ExecuteTime": {
     "end_time": "2020-06-25T15:49:48.532541Z",
     "start_time": "2020-06-25T15:49:47.923158Z"
    },
    "collapsed": true
   },
   "outputs": [],
   "source": [
    "import pandas as pd\n",
    "import numpy as np"
   ]
  },
  {
   "cell_type": "code",
   "execution_count": 5,
   "metadata": {
    "ExecuteTime": {
     "end_time": "2020-06-25T15:49:49.014240Z",
     "start_time": "2020-06-25T15:49:48.534522Z"
    },
    "collapsed": true
   },
   "outputs": [],
   "source": [
    "import seaborn as sns\n",
    "import matplotlib.pyplot as plt\n",
    "sns.set()\n",
    "%matplotlib inline"
   ]
  },
  {
   "cell_type": "code",
   "execution_count": 6,
   "metadata": {
    "ExecuteTime": {
     "end_time": "2020-06-25T15:49:49.155141Z",
     "start_time": "2020-06-25T15:49:49.016234Z"
    },
    "collapsed": true
   },
   "outputs": [],
   "source": [
    "from sklearn.model_selection import train_test_split, GridSearchCV\n",
    "from sklearn.preprocessing import LabelEncoder, StandardScaler\n",
    "from sklearn.metrics import classification_report, confusion_matrix\n",
    "from sklearn.metrics import f1_score, accuracy_score, roc_auc_score\n",
    "from sklearn.neural_network import MLPClassifier\n",
    "from sklearn.linear_model import LogisticRegression\n",
    "from sklearn.ensemble import AdaBoostClassifier\n",
    "from sklearn.svm import LinearSVC\n",
    "from xgboost.sklearn import XGBClassifier\n",
    "from sklearn.preprocessing import LabelBinarizer, StandardScaler"
   ]
  },
  {
   "cell_type": "code",
   "execution_count": 7,
   "metadata": {
    "ExecuteTime": {
     "end_time": "2020-06-25T15:49:49.160847Z",
     "start_time": "2020-06-25T15:49:49.156858Z"
    },
    "collapsed": true
   },
   "outputs": [],
   "source": [
    "pd.set_option('display.max_columns', 60)"
   ]
  },
  {
   "cell_type": "markdown",
   "metadata": {},
   "source": [
    "# DATASET"
   ]
  },
  {
   "cell_type": "code",
   "execution_count": 8,
   "metadata": {
    "ExecuteTime": {
     "end_time": "2020-06-25T15:49:51.449726Z",
     "start_time": "2020-06-25T15:49:49.162841Z"
    }
   },
   "outputs": [
    {
     "data": {
      "text/plain": [
       "(595212, 59)"
      ]
     },
     "execution_count": 8,
     "metadata": {},
     "output_type": "execute_result"
    }
   ],
   "source": [
    "df = pd.read_csv('train.csv', na_values=[-1])\n",
    "df.shape"
   ]
  },
  {
   "cell_type": "markdown",
   "metadata": {},
   "source": [
    "# USER FUNCTIONS"
   ]
  },
  {
   "cell_type": "code",
   "execution_count": 9,
   "metadata": {
    "ExecuteTime": {
     "end_time": "2020-06-25T15:49:51.458729Z",
     "start_time": "2020-06-25T15:49:51.452721Z"
    },
    "collapsed": true
   },
   "outputs": [],
   "source": [
    "def missing_info(val):\n",
    "\n",
    "    '''    \n",
    "    Missing informtion and dataset information\n",
    "    on a dataframe.\n",
    "    \n",
    "    '''\n",
    "    \n",
    "    dtypes = val.dtypes\n",
    "    nuniq = val.T.apply(lambda x: x.nunique(), axis=1)\n",
    "    total = val.isna().sum()\n",
    "    count = val.shape[0]\n",
    "    percent = round(total / count * 100, 1)\n",
    "    \n",
    "    mdf = pd.concat([total, percent, nuniq, dtypes],\n",
    "                    keys=['Missing', 'Missing %',\n",
    "                          'UniqueVals', 'Dtype'], axis=1)\n",
    "\n",
    "    return mdf"
   ]
  },
  {
   "cell_type": "code",
   "execution_count": 10,
   "metadata": {
    "ExecuteTime": {
     "end_time": "2020-06-25T15:49:51.470669Z",
     "start_time": "2020-06-25T15:49:51.461694Z"
    },
    "collapsed": true
   },
   "outputs": [],
   "source": [
    "def variable_plotter(a, b, labela, labelb, title=None, xlabel=None, ylabel=None, bar=True):\n",
    "    \n",
    "    '''\n",
    "      \n",
    "    The functions plots graph between two variables.\n",
    "    bar = True by default, else Line\n",
    "    title, xlabel, ylabel: Pass as type str.\n",
    "    \n",
    "    Returns: Plot\n",
    "    \n",
    "    '''\n",
    "\n",
    "    s = []\n",
    "    t = []\n",
    "    s.append(a)\n",
    "    t.append(b)\n",
    "    pr = pd.DataFrame(list(zip(s, t)), columns=[labela, labelb])\n",
    "    if bar == True:\n",
    "        plt.figure(figsize=(12,5))\n",
    "        pr.plot(kind='bar', figsize=(10, 6))\n",
    "        plt.title(title, fontsize=15)\n",
    "        plt.xlabel(xlabel, fontsize=15)\n",
    "        plt.ylabel(ylabel, fontsize=15)\n",
    "\n",
    "    else:\n",
    "        plt.figure(figsize=(12,5))\n",
    "        pr.plot(kind='line', figsize=(10, 6))\n",
    "        plt.title(title, fontsize=15)\n",
    "        plt.xlabel(xlabel, fontsize=15)\n",
    "        plt.ylabel(ylabel, fontsize=15)"
   ]
  },
  {
   "cell_type": "code",
   "execution_count": 11,
   "metadata": {
    "ExecuteTime": {
     "end_time": "2020-06-25T15:49:51.484682Z",
     "start_time": "2020-06-25T15:49:51.472664Z"
    },
    "collapsed": true
   },
   "outputs": [],
   "source": [
    "def run_classifier(xtr, ytr, xt, yt, clf):\n",
    "\n",
    "    '''\n",
    "       \n",
    "    The function inputs train test split dataset\n",
    "    and computes various classification metrics \n",
    "    like Accuracy, Precision, Recall, F1 and\n",
    "    ROC scores after making predictions on the \n",
    "    test set and plots them against each other.\n",
    "    \n",
    "    Returns: 4 Scores between 0 and 1.\n",
    "    Return: Plot\n",
    "    \n",
    "    '''\n",
    "    \n",
    "    from sklearn.metrics import precision_score, recall_score, f1_score\n",
    "    from sklearn.metrics import roc_auc_score, accuracy_score\n",
    "    from sklearn.metrics import classification_report, confusion_matrix\n",
    "\n",
    "    \n",
    "    clf.fit(xtr, ytr)\n",
    "    pred = clf.predict(xt)\n",
    "\n",
    "    acc = round(accuracy_score(yt, pred), 2)\n",
    "    cm = confusion_matrix(yt, pred)\n",
    "\n",
    "    pr = round(precision_score(yt, pred), 3)\n",
    "    re = round(recall_score(yt, pred), 3)\n",
    "    f1 = round(f1_score(yt, pred), 3)\n",
    "    roc = round(roc_auc_score(yt, pred), 3)    \n",
    "    \n",
    "    cr = classification_report(yt, pred, output_dict=True)\n",
    "    cr = pd.DataFrame(cr).T\n",
    "    \n",
    "    \n",
    "    for i in cr.columns:\n",
    "        cr[i] = round(cr[i], 3)\n",
    "    \n",
    "    print('\\n\\t\\t\\033[1;4;30mClassification Report\\033[0m')\n",
    "    display(cr)\n",
    "    \n",
    "    \n",
    "    print(f'\\n\\033[1;30mAccuracy:\\033[0m {round(acc*100, 1)}%')\n",
    "    print(f'\\033[1;30mPrecision Score:\\033[0m {round(pr, 3)} | \\033[1;30mRecall Score:\\033[0m {round(re, 3)}')    \n",
    "    print(f'\\033[1;31mF1 Score\\033[0m: {round(f1, 3)}\\t| \\033[1;30mROC Score:\\033[0m {round(roc, 3)}')\n",
    "    print(f'\\n\\033[1;30mConfusion Matrix:\\033[0m \\n{cm}')\n",
    "        \n",
    "    dx = pd.DataFrame({'Accuracy':[acc], 'Precision': [pr], 'Recall': [re],\n",
    "                             'F1-Score': [f1], 'ROC': [roc]}).T  #.plot(kind='bar', figsize=(14,6))\n",
    "    \n",
    "    dx.rename(columns={0: 'Scores'}, inplace=True)\n",
    "    plt.figure(figsize=(14,6))\n",
    "    graph = sns.barplot(dx.index, dx.Scores, palette='Accent')\n",
    "    plt.yticks(np.arange(0, 1.1, 0.1))\n",
    "    plt.xlabel('Scores', fontsize=15)\n",
    "    plt.ylabel('Metric Score', fontsize=15)\n",
    "    plt.title('All Metrics of Model', fontsize=15)\n",
    "    for p in graph.patches:\n",
    "        height = p.get_height()\n",
    "        graph.text(p.get_x() + p.get_width() / 2, height + 0, height, ha=\"center\", fontsize=13)\n",
    "\n",
    "    return pr, re, f1, acc"
   ]
  },
  {
   "cell_type": "markdown",
   "metadata": {
    "ExecuteTime": {
     "end_time": "2020-05-12T16:18:06.823535Z",
     "start_time": "2020-05-12T16:18:06.812565Z"
    }
   },
   "source": [
    "#  <font color='DODGERBLUE'>EXPLORATORY</FONT> DATA ANALYSIS / <font color='dodgerblue'>EDA</FONT>"
   ]
  },
  {
   "cell_type": "markdown",
   "metadata": {},
   "source": [
    "## EDA: 1 - Write at least 3 important <font color='mediumturquoise'>inferences</font> from the data above."
   ]
  },
  {
   "cell_type": "code",
   "execution_count": 12,
   "metadata": {
    "ExecuteTime": {
     "end_time": "2020-06-25T15:49:54.749926Z",
     "start_time": "2020-06-25T15:49:51.486629Z"
    }
   },
   "outputs": [
    {
     "data": {
      "text/html": [
       "<div>\n",
       "<style scoped>\n",
       "    .dataframe tbody tr th:only-of-type {\n",
       "        vertical-align: middle;\n",
       "    }\n",
       "\n",
       "    .dataframe tbody tr th {\n",
       "        vertical-align: top;\n",
       "    }\n",
       "\n",
       "    .dataframe thead th {\n",
       "        text-align: right;\n",
       "    }\n",
       "</style>\n",
       "<table border=\"1\" class=\"dataframe\">\n",
       "  <thead>\n",
       "    <tr style=\"text-align: right;\">\n",
       "      <th></th>\n",
       "      <th>Missing</th>\n",
       "      <th>Missing %</th>\n",
       "      <th>UniqueVals</th>\n",
       "      <th>Dtype</th>\n",
       "    </tr>\n",
       "  </thead>\n",
       "  <tbody>\n",
       "    <tr>\n",
       "      <td>id</td>\n",
       "      <td>0</td>\n",
       "      <td>0.0</td>\n",
       "      <td>595212</td>\n",
       "      <td>int64</td>\n",
       "    </tr>\n",
       "    <tr>\n",
       "      <td>target</td>\n",
       "      <td>0</td>\n",
       "      <td>0.0</td>\n",
       "      <td>2</td>\n",
       "      <td>int64</td>\n",
       "    </tr>\n",
       "    <tr>\n",
       "      <td>ps_ind_01</td>\n",
       "      <td>0</td>\n",
       "      <td>0.0</td>\n",
       "      <td>8</td>\n",
       "      <td>int64</td>\n",
       "    </tr>\n",
       "    <tr>\n",
       "      <td>ps_ind_02_cat</td>\n",
       "      <td>216</td>\n",
       "      <td>0.0</td>\n",
       "      <td>4</td>\n",
       "      <td>float64</td>\n",
       "    </tr>\n",
       "    <tr>\n",
       "      <td>ps_ind_03</td>\n",
       "      <td>0</td>\n",
       "      <td>0.0</td>\n",
       "      <td>12</td>\n",
       "      <td>int64</td>\n",
       "    </tr>\n",
       "    <tr>\n",
       "      <td>ps_ind_04_cat</td>\n",
       "      <td>83</td>\n",
       "      <td>0.0</td>\n",
       "      <td>2</td>\n",
       "      <td>float64</td>\n",
       "    </tr>\n",
       "    <tr>\n",
       "      <td>ps_ind_05_cat</td>\n",
       "      <td>5809</td>\n",
       "      <td>1.0</td>\n",
       "      <td>7</td>\n",
       "      <td>float64</td>\n",
       "    </tr>\n",
       "    <tr>\n",
       "      <td>ps_ind_06_bin</td>\n",
       "      <td>0</td>\n",
       "      <td>0.0</td>\n",
       "      <td>2</td>\n",
       "      <td>int64</td>\n",
       "    </tr>\n",
       "    <tr>\n",
       "      <td>ps_ind_07_bin</td>\n",
       "      <td>0</td>\n",
       "      <td>0.0</td>\n",
       "      <td>2</td>\n",
       "      <td>int64</td>\n",
       "    </tr>\n",
       "    <tr>\n",
       "      <td>ps_ind_08_bin</td>\n",
       "      <td>0</td>\n",
       "      <td>0.0</td>\n",
       "      <td>2</td>\n",
       "      <td>int64</td>\n",
       "    </tr>\n",
       "    <tr>\n",
       "      <td>ps_ind_09_bin</td>\n",
       "      <td>0</td>\n",
       "      <td>0.0</td>\n",
       "      <td>2</td>\n",
       "      <td>int64</td>\n",
       "    </tr>\n",
       "    <tr>\n",
       "      <td>ps_ind_10_bin</td>\n",
       "      <td>0</td>\n",
       "      <td>0.0</td>\n",
       "      <td>2</td>\n",
       "      <td>int64</td>\n",
       "    </tr>\n",
       "    <tr>\n",
       "      <td>ps_ind_11_bin</td>\n",
       "      <td>0</td>\n",
       "      <td>0.0</td>\n",
       "      <td>2</td>\n",
       "      <td>int64</td>\n",
       "    </tr>\n",
       "    <tr>\n",
       "      <td>ps_ind_12_bin</td>\n",
       "      <td>0</td>\n",
       "      <td>0.0</td>\n",
       "      <td>2</td>\n",
       "      <td>int64</td>\n",
       "    </tr>\n",
       "    <tr>\n",
       "      <td>ps_ind_13_bin</td>\n",
       "      <td>0</td>\n",
       "      <td>0.0</td>\n",
       "      <td>2</td>\n",
       "      <td>int64</td>\n",
       "    </tr>\n",
       "    <tr>\n",
       "      <td>ps_ind_14</td>\n",
       "      <td>0</td>\n",
       "      <td>0.0</td>\n",
       "      <td>5</td>\n",
       "      <td>int64</td>\n",
       "    </tr>\n",
       "    <tr>\n",
       "      <td>ps_ind_15</td>\n",
       "      <td>0</td>\n",
       "      <td>0.0</td>\n",
       "      <td>14</td>\n",
       "      <td>int64</td>\n",
       "    </tr>\n",
       "    <tr>\n",
       "      <td>ps_ind_16_bin</td>\n",
       "      <td>0</td>\n",
       "      <td>0.0</td>\n",
       "      <td>2</td>\n",
       "      <td>int64</td>\n",
       "    </tr>\n",
       "    <tr>\n",
       "      <td>ps_ind_17_bin</td>\n",
       "      <td>0</td>\n",
       "      <td>0.0</td>\n",
       "      <td>2</td>\n",
       "      <td>int64</td>\n",
       "    </tr>\n",
       "    <tr>\n",
       "      <td>ps_ind_18_bin</td>\n",
       "      <td>0</td>\n",
       "      <td>0.0</td>\n",
       "      <td>2</td>\n",
       "      <td>int64</td>\n",
       "    </tr>\n",
       "    <tr>\n",
       "      <td>ps_reg_01</td>\n",
       "      <td>0</td>\n",
       "      <td>0.0</td>\n",
       "      <td>10</td>\n",
       "      <td>float64</td>\n",
       "    </tr>\n",
       "    <tr>\n",
       "      <td>ps_reg_02</td>\n",
       "      <td>0</td>\n",
       "      <td>0.0</td>\n",
       "      <td>19</td>\n",
       "      <td>float64</td>\n",
       "    </tr>\n",
       "    <tr>\n",
       "      <td>ps_reg_03</td>\n",
       "      <td>107772</td>\n",
       "      <td>18.1</td>\n",
       "      <td>5012</td>\n",
       "      <td>float64</td>\n",
       "    </tr>\n",
       "    <tr>\n",
       "      <td>ps_car_01_cat</td>\n",
       "      <td>107</td>\n",
       "      <td>0.0</td>\n",
       "      <td>12</td>\n",
       "      <td>float64</td>\n",
       "    </tr>\n",
       "    <tr>\n",
       "      <td>ps_car_02_cat</td>\n",
       "      <td>0</td>\n",
       "      <td>0.0</td>\n",
       "      <td>2</td>\n",
       "      <td>int64</td>\n",
       "    </tr>\n",
       "    <tr>\n",
       "      <td>ps_car_03_cat</td>\n",
       "      <td>411231</td>\n",
       "      <td>69.1</td>\n",
       "      <td>2</td>\n",
       "      <td>float64</td>\n",
       "    </tr>\n",
       "    <tr>\n",
       "      <td>ps_car_04_cat</td>\n",
       "      <td>0</td>\n",
       "      <td>0.0</td>\n",
       "      <td>10</td>\n",
       "      <td>int64</td>\n",
       "    </tr>\n",
       "    <tr>\n",
       "      <td>ps_car_05_cat</td>\n",
       "      <td>266551</td>\n",
       "      <td>44.8</td>\n",
       "      <td>2</td>\n",
       "      <td>float64</td>\n",
       "    </tr>\n",
       "    <tr>\n",
       "      <td>ps_car_06_cat</td>\n",
       "      <td>0</td>\n",
       "      <td>0.0</td>\n",
       "      <td>18</td>\n",
       "      <td>int64</td>\n",
       "    </tr>\n",
       "    <tr>\n",
       "      <td>ps_car_07_cat</td>\n",
       "      <td>11489</td>\n",
       "      <td>1.9</td>\n",
       "      <td>2</td>\n",
       "      <td>float64</td>\n",
       "    </tr>\n",
       "    <tr>\n",
       "      <td>ps_car_08_cat</td>\n",
       "      <td>0</td>\n",
       "      <td>0.0</td>\n",
       "      <td>2</td>\n",
       "      <td>int64</td>\n",
       "    </tr>\n",
       "    <tr>\n",
       "      <td>ps_car_09_cat</td>\n",
       "      <td>569</td>\n",
       "      <td>0.1</td>\n",
       "      <td>5</td>\n",
       "      <td>float64</td>\n",
       "    </tr>\n",
       "    <tr>\n",
       "      <td>ps_car_10_cat</td>\n",
       "      <td>0</td>\n",
       "      <td>0.0</td>\n",
       "      <td>3</td>\n",
       "      <td>int64</td>\n",
       "    </tr>\n",
       "    <tr>\n",
       "      <td>ps_car_11_cat</td>\n",
       "      <td>0</td>\n",
       "      <td>0.0</td>\n",
       "      <td>104</td>\n",
       "      <td>int64</td>\n",
       "    </tr>\n",
       "    <tr>\n",
       "      <td>ps_car_11</td>\n",
       "      <td>5</td>\n",
       "      <td>0.0</td>\n",
       "      <td>4</td>\n",
       "      <td>float64</td>\n",
       "    </tr>\n",
       "    <tr>\n",
       "      <td>ps_car_12</td>\n",
       "      <td>1</td>\n",
       "      <td>0.0</td>\n",
       "      <td>183</td>\n",
       "      <td>float64</td>\n",
       "    </tr>\n",
       "    <tr>\n",
       "      <td>ps_car_13</td>\n",
       "      <td>0</td>\n",
       "      <td>0.0</td>\n",
       "      <td>70482</td>\n",
       "      <td>float64</td>\n",
       "    </tr>\n",
       "    <tr>\n",
       "      <td>ps_car_14</td>\n",
       "      <td>42620</td>\n",
       "      <td>7.2</td>\n",
       "      <td>849</td>\n",
       "      <td>float64</td>\n",
       "    </tr>\n",
       "    <tr>\n",
       "      <td>ps_car_15</td>\n",
       "      <td>0</td>\n",
       "      <td>0.0</td>\n",
       "      <td>15</td>\n",
       "      <td>float64</td>\n",
       "    </tr>\n",
       "    <tr>\n",
       "      <td>ps_calc_01</td>\n",
       "      <td>0</td>\n",
       "      <td>0.0</td>\n",
       "      <td>10</td>\n",
       "      <td>float64</td>\n",
       "    </tr>\n",
       "    <tr>\n",
       "      <td>ps_calc_02</td>\n",
       "      <td>0</td>\n",
       "      <td>0.0</td>\n",
       "      <td>10</td>\n",
       "      <td>float64</td>\n",
       "    </tr>\n",
       "    <tr>\n",
       "      <td>ps_calc_03</td>\n",
       "      <td>0</td>\n",
       "      <td>0.0</td>\n",
       "      <td>10</td>\n",
       "      <td>float64</td>\n",
       "    </tr>\n",
       "    <tr>\n",
       "      <td>ps_calc_04</td>\n",
       "      <td>0</td>\n",
       "      <td>0.0</td>\n",
       "      <td>6</td>\n",
       "      <td>int64</td>\n",
       "    </tr>\n",
       "    <tr>\n",
       "      <td>ps_calc_05</td>\n",
       "      <td>0</td>\n",
       "      <td>0.0</td>\n",
       "      <td>7</td>\n",
       "      <td>int64</td>\n",
       "    </tr>\n",
       "    <tr>\n",
       "      <td>ps_calc_06</td>\n",
       "      <td>0</td>\n",
       "      <td>0.0</td>\n",
       "      <td>11</td>\n",
       "      <td>int64</td>\n",
       "    </tr>\n",
       "    <tr>\n",
       "      <td>ps_calc_07</td>\n",
       "      <td>0</td>\n",
       "      <td>0.0</td>\n",
       "      <td>10</td>\n",
       "      <td>int64</td>\n",
       "    </tr>\n",
       "    <tr>\n",
       "      <td>ps_calc_08</td>\n",
       "      <td>0</td>\n",
       "      <td>0.0</td>\n",
       "      <td>11</td>\n",
       "      <td>int64</td>\n",
       "    </tr>\n",
       "    <tr>\n",
       "      <td>ps_calc_09</td>\n",
       "      <td>0</td>\n",
       "      <td>0.0</td>\n",
       "      <td>8</td>\n",
       "      <td>int64</td>\n",
       "    </tr>\n",
       "    <tr>\n",
       "      <td>ps_calc_10</td>\n",
       "      <td>0</td>\n",
       "      <td>0.0</td>\n",
       "      <td>26</td>\n",
       "      <td>int64</td>\n",
       "    </tr>\n",
       "    <tr>\n",
       "      <td>ps_calc_11</td>\n",
       "      <td>0</td>\n",
       "      <td>0.0</td>\n",
       "      <td>20</td>\n",
       "      <td>int64</td>\n",
       "    </tr>\n",
       "    <tr>\n",
       "      <td>ps_calc_12</td>\n",
       "      <td>0</td>\n",
       "      <td>0.0</td>\n",
       "      <td>11</td>\n",
       "      <td>int64</td>\n",
       "    </tr>\n",
       "    <tr>\n",
       "      <td>ps_calc_13</td>\n",
       "      <td>0</td>\n",
       "      <td>0.0</td>\n",
       "      <td>14</td>\n",
       "      <td>int64</td>\n",
       "    </tr>\n",
       "    <tr>\n",
       "      <td>ps_calc_14</td>\n",
       "      <td>0</td>\n",
       "      <td>0.0</td>\n",
       "      <td>24</td>\n",
       "      <td>int64</td>\n",
       "    </tr>\n",
       "    <tr>\n",
       "      <td>ps_calc_15_bin</td>\n",
       "      <td>0</td>\n",
       "      <td>0.0</td>\n",
       "      <td>2</td>\n",
       "      <td>int64</td>\n",
       "    </tr>\n",
       "    <tr>\n",
       "      <td>ps_calc_16_bin</td>\n",
       "      <td>0</td>\n",
       "      <td>0.0</td>\n",
       "      <td>2</td>\n",
       "      <td>int64</td>\n",
       "    </tr>\n",
       "    <tr>\n",
       "      <td>ps_calc_17_bin</td>\n",
       "      <td>0</td>\n",
       "      <td>0.0</td>\n",
       "      <td>2</td>\n",
       "      <td>int64</td>\n",
       "    </tr>\n",
       "    <tr>\n",
       "      <td>ps_calc_18_bin</td>\n",
       "      <td>0</td>\n",
       "      <td>0.0</td>\n",
       "      <td>2</td>\n",
       "      <td>int64</td>\n",
       "    </tr>\n",
       "    <tr>\n",
       "      <td>ps_calc_19_bin</td>\n",
       "      <td>0</td>\n",
       "      <td>0.0</td>\n",
       "      <td>2</td>\n",
       "      <td>int64</td>\n",
       "    </tr>\n",
       "    <tr>\n",
       "      <td>ps_calc_20_bin</td>\n",
       "      <td>0</td>\n",
       "      <td>0.0</td>\n",
       "      <td>2</td>\n",
       "      <td>int64</td>\n",
       "    </tr>\n",
       "  </tbody>\n",
       "</table>\n",
       "</div>"
      ],
      "text/plain": [
       "                Missing  Missing %  UniqueVals    Dtype\n",
       "id                    0        0.0      595212    int64\n",
       "target                0        0.0           2    int64\n",
       "ps_ind_01             0        0.0           8    int64\n",
       "ps_ind_02_cat       216        0.0           4  float64\n",
       "ps_ind_03             0        0.0          12    int64\n",
       "ps_ind_04_cat        83        0.0           2  float64\n",
       "ps_ind_05_cat      5809        1.0           7  float64\n",
       "ps_ind_06_bin         0        0.0           2    int64\n",
       "ps_ind_07_bin         0        0.0           2    int64\n",
       "ps_ind_08_bin         0        0.0           2    int64\n",
       "ps_ind_09_bin         0        0.0           2    int64\n",
       "ps_ind_10_bin         0        0.0           2    int64\n",
       "ps_ind_11_bin         0        0.0           2    int64\n",
       "ps_ind_12_bin         0        0.0           2    int64\n",
       "ps_ind_13_bin         0        0.0           2    int64\n",
       "ps_ind_14             0        0.0           5    int64\n",
       "ps_ind_15             0        0.0          14    int64\n",
       "ps_ind_16_bin         0        0.0           2    int64\n",
       "ps_ind_17_bin         0        0.0           2    int64\n",
       "ps_ind_18_bin         0        0.0           2    int64\n",
       "ps_reg_01             0        0.0          10  float64\n",
       "ps_reg_02             0        0.0          19  float64\n",
       "ps_reg_03        107772       18.1        5012  float64\n",
       "ps_car_01_cat       107        0.0          12  float64\n",
       "ps_car_02_cat         0        0.0           2    int64\n",
       "ps_car_03_cat    411231       69.1           2  float64\n",
       "ps_car_04_cat         0        0.0          10    int64\n",
       "ps_car_05_cat    266551       44.8           2  float64\n",
       "ps_car_06_cat         0        0.0          18    int64\n",
       "ps_car_07_cat     11489        1.9           2  float64\n",
       "ps_car_08_cat         0        0.0           2    int64\n",
       "ps_car_09_cat       569        0.1           5  float64\n",
       "ps_car_10_cat         0        0.0           3    int64\n",
       "ps_car_11_cat         0        0.0         104    int64\n",
       "ps_car_11             5        0.0           4  float64\n",
       "ps_car_12             1        0.0         183  float64\n",
       "ps_car_13             0        0.0       70482  float64\n",
       "ps_car_14         42620        7.2         849  float64\n",
       "ps_car_15             0        0.0          15  float64\n",
       "ps_calc_01            0        0.0          10  float64\n",
       "ps_calc_02            0        0.0          10  float64\n",
       "ps_calc_03            0        0.0          10  float64\n",
       "ps_calc_04            0        0.0           6    int64\n",
       "ps_calc_05            0        0.0           7    int64\n",
       "ps_calc_06            0        0.0          11    int64\n",
       "ps_calc_07            0        0.0          10    int64\n",
       "ps_calc_08            0        0.0          11    int64\n",
       "ps_calc_09            0        0.0           8    int64\n",
       "ps_calc_10            0        0.0          26    int64\n",
       "ps_calc_11            0        0.0          20    int64\n",
       "ps_calc_12            0        0.0          11    int64\n",
       "ps_calc_13            0        0.0          14    int64\n",
       "ps_calc_14            0        0.0          24    int64\n",
       "ps_calc_15_bin        0        0.0           2    int64\n",
       "ps_calc_16_bin        0        0.0           2    int64\n",
       "ps_calc_17_bin        0        0.0           2    int64\n",
       "ps_calc_18_bin        0        0.0           2    int64\n",
       "ps_calc_19_bin        0        0.0           2    int64\n",
       "ps_calc_20_bin        0        0.0           2    int64"
      ]
     },
     "execution_count": 12,
     "metadata": {},
     "output_type": "execute_result"
    }
   ],
   "source": [
    "missing_info(df)      # 5 seconds"
   ]
  },
  {
   "cell_type": "code",
   "execution_count": 13,
   "metadata": {
    "ExecuteTime": {
     "end_time": "2020-06-25T15:49:54.757879Z",
     "start_time": "2020-06-25T15:49:54.751922Z"
    }
   },
   "outputs": [
    {
     "data": {
      "text/plain": [
       "(595212, 59)"
      ]
     },
     "execution_count": 13,
     "metadata": {},
     "output_type": "execute_result"
    }
   ],
   "source": [
    "df.shape"
   ]
  },
  {
   "cell_type": "markdown",
   "metadata": {},
   "source": [
    "**Inferences:**\n",
    "- Upon loading, **2.4% of data is missing**. The dataset is available with 97.6% integrity.\n",
    "- The Dataset has **59** features and **595,212** observations.\n",
    "- The datatype of the dataset is divided into int64 and float64. No 'Object' datatype found.\n",
    "    - However, all features suffixed 'bin' are Binary and 'cat' are Categorical variables."
   ]
  },
  {
   "cell_type": "markdown",
   "metadata": {},
   "source": [
    "## EDA: 2 - Is the Data<font color='indianred'> balanced?</font> Meaning are targets 0 and 1 in the right proportion?"
   ]
  },
  {
   "cell_type": "code",
   "execution_count": 14,
   "metadata": {
    "ExecuteTime": {
     "end_time": "2020-06-25T15:49:54.784853Z",
     "start_time": "2020-06-25T15:49:54.759874Z"
    }
   },
   "outputs": [
    {
     "data": {
      "text/plain": [
       "0    573518\n",
       "1     21694\n",
       "Name: target, dtype: int64"
      ]
     },
     "execution_count": 14,
     "metadata": {},
     "output_type": "execute_result"
    }
   ],
   "source": [
    "df.target.value_counts()"
   ]
  },
  {
   "cell_type": "code",
   "execution_count": 15,
   "metadata": {
    "ExecuteTime": {
     "end_time": "2020-06-25T15:49:55.083008Z",
     "start_time": "2020-06-25T15:49:54.786811Z"
    }
   },
   "outputs": [
    {
     "data": {
      "image/png": "[encoded data removed]",
      "text/plain": [
       "<Figure size 1080x504 with 2 Axes>"
      ]
     },
     "metadata": {
      "needs_background": "light"
     },
     "output_type": "display_data"
    }
   ],
   "source": [
    "fig, ax = plt.subplots(1, 2, figsize=(15, 7))\n",
    "\n",
    "df['target'].value_counts().plot.pie(\n",
    "    explode=[0.3, 0.105], autopct='%1.1f%%', ax=ax[0])\n",
    "\n",
    "ax[0].set_title('Target', fontsize=16)\n",
    "ax[0].set_ylabel('')\n",
    "\n",
    "graph = sns.countplot('target', data=df, ax=ax[1], palette='Accent')\n",
    "ax[1].set_title('Target', fontsize=16)\n",
    "for p in graph.patches:\n",
    "    height = p.get_height()\n",
    "    graph.text(p.get_x() + p.get_width() / 2, height + 0.2, height, ha=\"center\", fontsize=13)\n",
    "plt.show()"
   ]
  },
  {
   "cell_type": "code",
   "execution_count": 16,
   "metadata": {
    "ExecuteTime": {
     "end_time": "2020-06-25T15:49:55.103010Z",
     "start_time": "2020-06-25T15:49:55.085009Z"
    }
   },
   "outputs": [
    {
     "name": "stdout",
     "output_type": "stream",
     "text": [
      "Unclaimed Insurance: \u001b[1;32m96.4 %\u001b[0m\n",
      "Claimed Insurance: \u001b[1;31m3.6 %\u001b[0m\n"
     ]
    }
   ],
   "source": [
    "tb = df.target.value_counts()\n",
    "targ0 = tb[0] / df.shape[0] * 100\n",
    "targ1 = tb[1] / df.shape[0] * 100\n",
    "print(f'Unclaimed Insurance: \\033[1;32m{round(targ0, 1)} %\\033[0m')\n",
    "print(f'Claimed Insurance: \\033[1;31m{round(targ1, 1)} %\\033[0m')"
   ]
  },
  {
   "cell_type": "markdown",
   "metadata": {},
   "source": [
    "**Inferences:**\n",
    "- Yes, the classes are heavily imbalanced in the proportion **96.4% to 3.6%**. By having an imbalanced dataframe we are not able to see the true correlations between the target and features.\n",
    "- The dataset is a **'metric trap'**. Using simpler metrics like accuracy_score can be misleading and hence the metrics must be carefully chosen to evaluate model performance."
   ]
  },
  {
   "cell_type": "markdown",
   "metadata": {},
   "source": [
    "## EDA: 3,4 - How many <font color='yellowgreen'>Categorical</font> and <font color='indianred'>Binary</font> Features are there?"
   ]
  },
  {
   "cell_type": "code",
   "execution_count": 17,
   "metadata": {
    "ExecuteTime": {
     "end_time": "2020-06-25T15:49:55.110933Z",
     "start_time": "2020-06-25T15:49:55.103953Z"
    },
    "collapsed": true
   },
   "outputs": [],
   "source": [
    "bfeat = [c for c in df.columns if c.endswith('bin')]\n",
    "cfeat = [c for c in df.columns if c.endswith('cat')]\n",
    "\n",
    "contfeat= [i for i in df.columns if ((i not in bfeat)\n",
    "                                     and (i not in cfeat) and (i not in [\"target\", \"id\"]))]\n",
    "\n",
    "indfeat = [c for c in contfeat if c.startswith(\"ps_ind\")]\n",
    "regfeat = [c for c in contfeat if c.startswith(\"ps_reg\")]\n",
    "carfeat = [c for c in contfeat if c.startswith(\"ps_car\")]\n",
    "calcfeat = [c for c in contfeat if c.startswith(\"ps_calc\")]\n",
    "\n",
    "target = ['target']"
   ]
  },
  {
   "cell_type": "code",
   "execution_count": 18,
   "metadata": {
    "ExecuteTime": {
     "end_time": "2020-06-25T15:49:55.122918Z",
     "start_time": "2020-06-25T15:49:55.112933Z"
    }
   },
   "outputs": [
    {
     "data": {
      "text/html": [
       "<div>\n",
       "<style scoped>\n",
       "    .dataframe tbody tr th:only-of-type {\n",
       "        vertical-align: middle;\n",
       "    }\n",
       "\n",
       "    .dataframe tbody tr th {\n",
       "        vertical-align: top;\n",
       "    }\n",
       "\n",
       "    .dataframe thead th {\n",
       "        text-align: right;\n",
       "    }\n",
       "</style>\n",
       "<table border=\"1\" class=\"dataframe\">\n",
       "  <thead>\n",
       "    <tr style=\"text-align: right;\">\n",
       "      <th></th>\n",
       "      <th>Count</th>\n",
       "    </tr>\n",
       "  </thead>\n",
       "  <tbody>\n",
       "    <tr>\n",
       "      <td>Binary</td>\n",
       "      <td>17</td>\n",
       "    </tr>\n",
       "    <tr>\n",
       "      <td>Categorical</td>\n",
       "      <td>14</td>\n",
       "    </tr>\n",
       "    <tr>\n",
       "      <td>Continuous</td>\n",
       "      <td>26</td>\n",
       "    </tr>\n",
       "  </tbody>\n",
       "</table>\n",
       "</div>"
      ],
      "text/plain": [
       "             Count\n",
       "Binary          17\n",
       "Categorical     14\n",
       "Continuous      26"
      ]
     },
     "execution_count": 18,
     "metadata": {},
     "output_type": "execute_result"
    }
   ],
   "source": [
    "bina = len(bfeat)\n",
    "cat = len(cfeat)\n",
    "cont = len(contfeat)\n",
    "ind = len(indfeat)\n",
    "reg = len(regfeat)\n",
    "car = len(carfeat)\n",
    "calc = len(calcfeat)\n",
    "\n",
    "varcounts = pd.DataFrame({'Binary': [bina], 'Categorical': [cat], 'Continuous': [cont]}).T                    \n",
    "varcounts.rename(columns={0: 'Count'}, inplace=True)\n",
    "varcounts"
   ]
  },
  {
   "cell_type": "code",
   "execution_count": 19,
   "metadata": {
    "ExecuteTime": {
     "end_time": "2020-06-25T15:49:55.312395Z",
     "start_time": "2020-06-25T15:49:55.124897Z"
    }
   },
   "outputs": [
    {
     "data": {
      "image/png": "[encoded data removed]",
      "text/plain": [
       "<Figure size 720x360 with 1 Axes>"
      ]
     },
     "metadata": {
      "needs_background": "light"
     },
     "output_type": "display_data"
    }
   ],
   "source": [
    "fig, ax1 = plt.subplots(figsize=(10,5))\n",
    "ax1.set_title('Count of Binary and Categorical Features in Data', fontsize=15)\n",
    "ax1.set_xlabel('Count', fontsize=15)\n",
    "graph = sns.barplot(varcounts.index, varcounts['Count'], palette='viridis', ax=ax1)\n",
    "for p in graph.patches:\n",
    "    height = p.get_height()\n",
    "    graph.text(p.get_x() + p.get_width() / 2, height + 0.2, height, ha=\"center\", fontsize=13)"
   ]
  },
  {
   "cell_type": "markdown",
   "metadata": {},
   "source": [
    "**Inferences:**\n",
    "- As per column data, there are **14** Categorical features and **17** Binary Features."
   ]
  },
  {
   "cell_type": "markdown",
   "metadata": {},
   "source": [
    "## EDA: 5 -  Write inferences from data on <font color='yellowgreen'>Interval</font> variables."
   ]
  },
  {
   "cell_type": "code",
   "execution_count": 20,
   "metadata": {
    "ExecuteTime": {
     "end_time": "2020-06-25T15:49:55.349298Z",
     "start_time": "2020-06-25T15:49:55.314390Z"
    }
   },
   "outputs": [
    {
     "data": {
      "text/html": [
       "<div>\n",
       "<style scoped>\n",
       "    .dataframe tbody tr th:only-of-type {\n",
       "        vertical-align: middle;\n",
       "    }\n",
       "\n",
       "    .dataframe tbody tr th {\n",
       "        vertical-align: top;\n",
       "    }\n",
       "\n",
       "    .dataframe thead th {\n",
       "        text-align: right;\n",
       "    }\n",
       "</style>\n",
       "<table border=\"1\" class=\"dataframe\">\n",
       "  <thead>\n",
       "    <tr style=\"text-align: right;\">\n",
       "      <th></th>\n",
       "      <th>id</th>\n",
       "      <th>target</th>\n",
       "      <th>ps_ind_01</th>\n",
       "      <th>ps_ind_02_cat</th>\n",
       "      <th>ps_ind_03</th>\n",
       "      <th>ps_ind_04_cat</th>\n",
       "      <th>ps_ind_05_cat</th>\n",
       "      <th>ps_ind_06_bin</th>\n",
       "      <th>ps_ind_07_bin</th>\n",
       "      <th>ps_ind_08_bin</th>\n",
       "      <th>ps_ind_09_bin</th>\n",
       "      <th>ps_ind_10_bin</th>\n",
       "      <th>ps_ind_11_bin</th>\n",
       "      <th>ps_ind_12_bin</th>\n",
       "      <th>ps_ind_13_bin</th>\n",
       "      <th>ps_ind_14</th>\n",
       "      <th>ps_ind_15</th>\n",
       "      <th>ps_ind_16_bin</th>\n",
       "      <th>ps_ind_17_bin</th>\n",
       "      <th>ps_ind_18_bin</th>\n",
       "      <th>ps_reg_01</th>\n",
       "      <th>ps_reg_02</th>\n",
       "      <th>ps_reg_03</th>\n",
       "      <th>ps_car_01_cat</th>\n",
       "      <th>ps_car_02_cat</th>\n",
       "      <th>ps_car_03_cat</th>\n",
       "      <th>ps_car_04_cat</th>\n",
       "      <th>ps_car_05_cat</th>\n",
       "      <th>ps_car_06_cat</th>\n",
       "      <th>ps_car_07_cat</th>\n",
       "      <th>ps_car_08_cat</th>\n",
       "      <th>ps_car_09_cat</th>\n",
       "      <th>ps_car_10_cat</th>\n",
       "      <th>ps_car_11_cat</th>\n",
       "      <th>ps_car_11</th>\n",
       "      <th>ps_car_12</th>\n",
       "      <th>ps_car_13</th>\n",
       "      <th>ps_car_14</th>\n",
       "      <th>ps_car_15</th>\n",
       "      <th>ps_calc_01</th>\n",
       "      <th>ps_calc_02</th>\n",
       "      <th>ps_calc_03</th>\n",
       "      <th>ps_calc_04</th>\n",
       "      <th>ps_calc_05</th>\n",
       "      <th>ps_calc_06</th>\n",
       "      <th>ps_calc_07</th>\n",
       "      <th>ps_calc_08</th>\n",
       "      <th>ps_calc_09</th>\n",
       "      <th>ps_calc_10</th>\n",
       "      <th>ps_calc_11</th>\n",
       "      <th>ps_calc_12</th>\n",
       "      <th>ps_calc_13</th>\n",
       "      <th>ps_calc_14</th>\n",
       "      <th>ps_calc_15_bin</th>\n",
       "      <th>ps_calc_16_bin</th>\n",
       "      <th>ps_calc_17_bin</th>\n",
       "      <th>ps_calc_18_bin</th>\n",
       "      <th>ps_calc_19_bin</th>\n",
       "      <th>ps_calc_20_bin</th>\n",
       "    </tr>\n",
       "  </thead>\n",
       "  <tbody>\n",
       "    <tr>\n",
       "      <td>0</td>\n",
       "      <td>7</td>\n",
       "      <td>0</td>\n",
       "      <td>2</td>\n",
       "      <td>2.0</td>\n",
       "      <td>5</td>\n",
       "      <td>1.0</td>\n",
       "      <td>0.0</td>\n",
       "      <td>0</td>\n",
       "      <td>1</td>\n",
       "      <td>0</td>\n",
       "      <td>0</td>\n",
       "      <td>0</td>\n",
       "      <td>0</td>\n",
       "      <td>0</td>\n",
       "      <td>0</td>\n",
       "      <td>0</td>\n",
       "      <td>11</td>\n",
       "      <td>0</td>\n",
       "      <td>1</td>\n",
       "      <td>0</td>\n",
       "      <td>0.7</td>\n",
       "      <td>0.2</td>\n",
       "      <td>0.718070</td>\n",
       "      <td>10.0</td>\n",
       "      <td>1</td>\n",
       "      <td>NaN</td>\n",
       "      <td>0</td>\n",
       "      <td>1.0</td>\n",
       "      <td>4</td>\n",
       "      <td>1.0</td>\n",
       "      <td>0</td>\n",
       "      <td>0.0</td>\n",
       "      <td>1</td>\n",
       "      <td>12</td>\n",
       "      <td>2.0</td>\n",
       "      <td>0.400000</td>\n",
       "      <td>0.883679</td>\n",
       "      <td>0.370810</td>\n",
       "      <td>3.605551</td>\n",
       "      <td>0.6</td>\n",
       "      <td>0.5</td>\n",
       "      <td>0.2</td>\n",
       "      <td>3</td>\n",
       "      <td>1</td>\n",
       "      <td>10</td>\n",
       "      <td>1</td>\n",
       "      <td>10</td>\n",
       "      <td>1</td>\n",
       "      <td>5</td>\n",
       "      <td>9</td>\n",
       "      <td>1</td>\n",
       "      <td>5</td>\n",
       "      <td>8</td>\n",
       "      <td>0</td>\n",
       "      <td>1</td>\n",
       "      <td>1</td>\n",
       "      <td>0</td>\n",
       "      <td>0</td>\n",
       "      <td>1</td>\n",
       "    </tr>\n",
       "    <tr>\n",
       "      <td>1</td>\n",
       "      <td>9</td>\n",
       "      <td>0</td>\n",
       "      <td>1</td>\n",
       "      <td>1.0</td>\n",
       "      <td>7</td>\n",
       "      <td>0.0</td>\n",
       "      <td>0.0</td>\n",
       "      <td>0</td>\n",
       "      <td>0</td>\n",
       "      <td>1</td>\n",
       "      <td>0</td>\n",
       "      <td>0</td>\n",
       "      <td>0</td>\n",
       "      <td>0</td>\n",
       "      <td>0</td>\n",
       "      <td>0</td>\n",
       "      <td>3</td>\n",
       "      <td>0</td>\n",
       "      <td>0</td>\n",
       "      <td>1</td>\n",
       "      <td>0.8</td>\n",
       "      <td>0.4</td>\n",
       "      <td>0.766078</td>\n",
       "      <td>11.0</td>\n",
       "      <td>1</td>\n",
       "      <td>NaN</td>\n",
       "      <td>0</td>\n",
       "      <td>NaN</td>\n",
       "      <td>11</td>\n",
       "      <td>1.0</td>\n",
       "      <td>1</td>\n",
       "      <td>2.0</td>\n",
       "      <td>1</td>\n",
       "      <td>19</td>\n",
       "      <td>3.0</td>\n",
       "      <td>0.316228</td>\n",
       "      <td>0.618817</td>\n",
       "      <td>0.388716</td>\n",
       "      <td>2.449490</td>\n",
       "      <td>0.3</td>\n",
       "      <td>0.1</td>\n",
       "      <td>0.3</td>\n",
       "      <td>2</td>\n",
       "      <td>1</td>\n",
       "      <td>9</td>\n",
       "      <td>5</td>\n",
       "      <td>8</td>\n",
       "      <td>1</td>\n",
       "      <td>7</td>\n",
       "      <td>3</td>\n",
       "      <td>1</td>\n",
       "      <td>1</td>\n",
       "      <td>9</td>\n",
       "      <td>0</td>\n",
       "      <td>1</td>\n",
       "      <td>1</td>\n",
       "      <td>0</td>\n",
       "      <td>1</td>\n",
       "      <td>0</td>\n",
       "    </tr>\n",
       "    <tr>\n",
       "      <td>2</td>\n",
       "      <td>13</td>\n",
       "      <td>0</td>\n",
       "      <td>5</td>\n",
       "      <td>4.0</td>\n",
       "      <td>9</td>\n",
       "      <td>1.0</td>\n",
       "      <td>0.0</td>\n",
       "      <td>0</td>\n",
       "      <td>0</td>\n",
       "      <td>1</td>\n",
       "      <td>0</td>\n",
       "      <td>0</td>\n",
       "      <td>0</td>\n",
       "      <td>0</td>\n",
       "      <td>0</td>\n",
       "      <td>0</td>\n",
       "      <td>12</td>\n",
       "      <td>1</td>\n",
       "      <td>0</td>\n",
       "      <td>0</td>\n",
       "      <td>0.0</td>\n",
       "      <td>0.0</td>\n",
       "      <td>NaN</td>\n",
       "      <td>7.0</td>\n",
       "      <td>1</td>\n",
       "      <td>NaN</td>\n",
       "      <td>0</td>\n",
       "      <td>NaN</td>\n",
       "      <td>14</td>\n",
       "      <td>1.0</td>\n",
       "      <td>1</td>\n",
       "      <td>2.0</td>\n",
       "      <td>1</td>\n",
       "      <td>60</td>\n",
       "      <td>1.0</td>\n",
       "      <td>0.316228</td>\n",
       "      <td>0.641586</td>\n",
       "      <td>0.347275</td>\n",
       "      <td>3.316625</td>\n",
       "      <td>0.5</td>\n",
       "      <td>0.7</td>\n",
       "      <td>0.1</td>\n",
       "      <td>2</td>\n",
       "      <td>2</td>\n",
       "      <td>9</td>\n",
       "      <td>1</td>\n",
       "      <td>8</td>\n",
       "      <td>2</td>\n",
       "      <td>7</td>\n",
       "      <td>4</td>\n",
       "      <td>2</td>\n",
       "      <td>7</td>\n",
       "      <td>7</td>\n",
       "      <td>0</td>\n",
       "      <td>1</td>\n",
       "      <td>1</td>\n",
       "      <td>0</td>\n",
       "      <td>1</td>\n",
       "      <td>0</td>\n",
       "    </tr>\n",
       "    <tr>\n",
       "      <td>3</td>\n",
       "      <td>16</td>\n",
       "      <td>0</td>\n",
       "      <td>0</td>\n",
       "      <td>1.0</td>\n",
       "      <td>2</td>\n",
       "      <td>0.0</td>\n",
       "      <td>0.0</td>\n",
       "      <td>1</td>\n",
       "      <td>0</td>\n",
       "      <td>0</td>\n",
       "      <td>0</td>\n",
       "      <td>0</td>\n",
       "      <td>0</td>\n",
       "      <td>0</td>\n",
       "      <td>0</td>\n",
       "      <td>0</td>\n",
       "      <td>8</td>\n",
       "      <td>1</td>\n",
       "      <td>0</td>\n",
       "      <td>0</td>\n",
       "      <td>0.9</td>\n",
       "      <td>0.2</td>\n",
       "      <td>0.580948</td>\n",
       "      <td>7.0</td>\n",
       "      <td>1</td>\n",
       "      <td>0.0</td>\n",
       "      <td>0</td>\n",
       "      <td>1.0</td>\n",
       "      <td>11</td>\n",
       "      <td>1.0</td>\n",
       "      <td>1</td>\n",
       "      <td>3.0</td>\n",
       "      <td>1</td>\n",
       "      <td>104</td>\n",
       "      <td>1.0</td>\n",
       "      <td>0.374166</td>\n",
       "      <td>0.542949</td>\n",
       "      <td>0.294958</td>\n",
       "      <td>2.000000</td>\n",
       "      <td>0.6</td>\n",
       "      <td>0.9</td>\n",
       "      <td>0.1</td>\n",
       "      <td>2</td>\n",
       "      <td>4</td>\n",
       "      <td>7</td>\n",
       "      <td>1</td>\n",
       "      <td>8</td>\n",
       "      <td>4</td>\n",
       "      <td>2</td>\n",
       "      <td>2</td>\n",
       "      <td>2</td>\n",
       "      <td>4</td>\n",
       "      <td>9</td>\n",
       "      <td>0</td>\n",
       "      <td>0</td>\n",
       "      <td>0</td>\n",
       "      <td>0</td>\n",
       "      <td>0</td>\n",
       "      <td>0</td>\n",
       "    </tr>\n",
       "    <tr>\n",
       "      <td>4</td>\n",
       "      <td>17</td>\n",
       "      <td>0</td>\n",
       "      <td>0</td>\n",
       "      <td>2.0</td>\n",
       "      <td>0</td>\n",
       "      <td>1.0</td>\n",
       "      <td>0.0</td>\n",
       "      <td>1</td>\n",
       "      <td>0</td>\n",
       "      <td>0</td>\n",
       "      <td>0</td>\n",
       "      <td>0</td>\n",
       "      <td>0</td>\n",
       "      <td>0</td>\n",
       "      <td>0</td>\n",
       "      <td>0</td>\n",
       "      <td>9</td>\n",
       "      <td>1</td>\n",
       "      <td>0</td>\n",
       "      <td>0</td>\n",
       "      <td>0.7</td>\n",
       "      <td>0.6</td>\n",
       "      <td>0.840759</td>\n",
       "      <td>11.0</td>\n",
       "      <td>1</td>\n",
       "      <td>NaN</td>\n",
       "      <td>0</td>\n",
       "      <td>NaN</td>\n",
       "      <td>14</td>\n",
       "      <td>1.0</td>\n",
       "      <td>1</td>\n",
       "      <td>2.0</td>\n",
       "      <td>1</td>\n",
       "      <td>82</td>\n",
       "      <td>3.0</td>\n",
       "      <td>0.316070</td>\n",
       "      <td>0.565832</td>\n",
       "      <td>0.365103</td>\n",
       "      <td>2.000000</td>\n",
       "      <td>0.4</td>\n",
       "      <td>0.6</td>\n",
       "      <td>0.0</td>\n",
       "      <td>2</td>\n",
       "      <td>2</td>\n",
       "      <td>6</td>\n",
       "      <td>3</td>\n",
       "      <td>10</td>\n",
       "      <td>2</td>\n",
       "      <td>12</td>\n",
       "      <td>3</td>\n",
       "      <td>1</td>\n",
       "      <td>1</td>\n",
       "      <td>3</td>\n",
       "      <td>0</td>\n",
       "      <td>0</td>\n",
       "      <td>0</td>\n",
       "      <td>1</td>\n",
       "      <td>1</td>\n",
       "      <td>0</td>\n",
       "    </tr>\n",
       "  </tbody>\n",
       "</table>\n",
       "</div>"
      ],
      "text/plain": [
       "   id  target  ps_ind_01  ps_ind_02_cat  ps_ind_03  ps_ind_04_cat  \\\n",
       "0   7       0          2            2.0          5            1.0   \n",
       "1   9       0          1            1.0          7            0.0   \n",
       "2  13       0          5            4.0          9            1.0   \n",
       "3  16       0          0            1.0          2            0.0   \n",
       "4  17       0          0            2.0          0            1.0   \n",
       "\n",
       "   ps_ind_05_cat  ps_ind_06_bin  ps_ind_07_bin  ps_ind_08_bin  ps_ind_09_bin  \\\n",
       "0            0.0              0              1              0              0   \n",
       "1            0.0              0              0              1              0   \n",
       "2            0.0              0              0              1              0   \n",
       "3            0.0              1              0              0              0   \n",
       "4            0.0              1              0              0              0   \n",
       "\n",
       "   ps_ind_10_bin  ps_ind_11_bin  ps_ind_12_bin  ps_ind_13_bin  ps_ind_14  \\\n",
       "0              0              0              0              0          0   \n",
       "1              0              0              0              0          0   \n",
       "2              0              0              0              0          0   \n",
       "3              0              0              0              0          0   \n",
       "4              0              0              0              0          0   \n",
       "\n",
       "   ps_ind_15  ps_ind_16_bin  ps_ind_17_bin  ps_ind_18_bin  ps_reg_01  \\\n",
       "0         11              0              1              0        0.7   \n",
       "1          3              0              0              1        0.8   \n",
       "2         12              1              0              0        0.0   \n",
       "3          8              1              0              0        0.9   \n",
       "4          9              1              0              0        0.7   \n",
       "\n",
       "   ps_reg_02  ps_reg_03  ps_car_01_cat  ps_car_02_cat  ps_car_03_cat  \\\n",
       "0        0.2   0.718070           10.0              1            NaN   \n",
       "1        0.4   0.766078           11.0              1            NaN   \n",
       "2        0.0        NaN            7.0              1            NaN   \n",
       "3        0.2   0.580948            7.0              1            0.0   \n",
       "4        0.6   0.840759           11.0              1            NaN   \n",
       "\n",
       "   ps_car_04_cat  ps_car_05_cat  ps_car_06_cat  ps_car_07_cat  ps_car_08_cat  \\\n",
       "0              0            1.0              4            1.0              0   \n",
       "1              0            NaN             11            1.0              1   \n",
       "2              0            NaN             14            1.0              1   \n",
       "3              0            1.0             11            1.0              1   \n",
       "4              0            NaN             14            1.0              1   \n",
       "\n",
       "   ps_car_09_cat  ps_car_10_cat  ps_car_11_cat  ps_car_11  ps_car_12  \\\n",
       "0            0.0              1             12        2.0   0.400000   \n",
       "1            2.0              1             19        3.0   0.316228   \n",
       "2            2.0              1             60        1.0   0.316228   \n",
       "3            3.0              1            104        1.0   0.374166   \n",
       "4            2.0              1             82        3.0   0.316070   \n",
       "\n",
       "   ps_car_13  ps_car_14  ps_car_15  ps_calc_01  ps_calc_02  ps_calc_03  \\\n",
       "0   0.883679   0.370810   3.605551         0.6         0.5         0.2   \n",
       "1   0.618817   0.388716   2.449490         0.3         0.1         0.3   \n",
       "2   0.641586   0.347275   3.316625         0.5         0.7         0.1   \n",
       "3   0.542949   0.294958   2.000000         0.6         0.9         0.1   \n",
       "4   0.565832   0.365103   2.000000         0.4         0.6         0.0   \n",
       "\n",
       "   ps_calc_04  ps_calc_05  ps_calc_06  ps_calc_07  ps_calc_08  ps_calc_09  \\\n",
       "0           3           1          10           1          10           1   \n",
       "1           2           1           9           5           8           1   \n",
       "2           2           2           9           1           8           2   \n",
       "3           2           4           7           1           8           4   \n",
       "4           2           2           6           3          10           2   \n",
       "\n",
       "   ps_calc_10  ps_calc_11  ps_calc_12  ps_calc_13  ps_calc_14  ps_calc_15_bin  \\\n",
       "0           5           9           1           5           8               0   \n",
       "1           7           3           1           1           9               0   \n",
       "2           7           4           2           7           7               0   \n",
       "3           2           2           2           4           9               0   \n",
       "4          12           3           1           1           3               0   \n",
       "\n",
       "   ps_calc_16_bin  ps_calc_17_bin  ps_calc_18_bin  ps_calc_19_bin  \\\n",
       "0               1               1               0               0   \n",
       "1               1               1               0               1   \n",
       "2               1               1               0               1   \n",
       "3               0               0               0               0   \n",
       "4               0               0               1               1   \n",
       "\n",
       "   ps_calc_20_bin  \n",
       "0               1  \n",
       "1               0  \n",
       "2               0  \n",
       "3               0  \n",
       "4               0  "
      ]
     },
     "execution_count": 20,
     "metadata": {},
     "output_type": "execute_result"
    }
   ],
   "source": [
    "df.head()"
   ]
  },
  {
   "cell_type": "code",
   "execution_count": 21,
   "metadata": {
    "ExecuteTime": {
     "end_time": "2020-06-25T15:49:55.363261Z",
     "start_time": "2020-06-25T15:49:55.352289Z"
    }
   },
   "outputs": [
    {
     "data": {
      "text/html": [
       "<div>\n",
       "<style scoped>\n",
       "    .dataframe tbody tr th:only-of-type {\n",
       "        vertical-align: middle;\n",
       "    }\n",
       "\n",
       "    .dataframe tbody tr th {\n",
       "        vertical-align: top;\n",
       "    }\n",
       "\n",
       "    .dataframe thead th {\n",
       "        text-align: right;\n",
       "    }\n",
       "</style>\n",
       "<table border=\"1\" class=\"dataframe\">\n",
       "  <thead>\n",
       "    <tr style=\"text-align: right;\">\n",
       "      <th></th>\n",
       "      <th>Count</th>\n",
       "    </tr>\n",
       "  </thead>\n",
       "  <tbody>\n",
       "    <tr>\n",
       "      <td>Ind</td>\n",
       "      <td>4</td>\n",
       "    </tr>\n",
       "    <tr>\n",
       "      <td>Reg</td>\n",
       "      <td>3</td>\n",
       "    </tr>\n",
       "    <tr>\n",
       "      <td>Car</td>\n",
       "      <td>5</td>\n",
       "    </tr>\n",
       "    <tr>\n",
       "      <td>Calc</td>\n",
       "      <td>14</td>\n",
       "    </tr>\n",
       "  </tbody>\n",
       "</table>\n",
       "</div>"
      ],
      "text/plain": [
       "      Count\n",
       "Ind       4\n",
       "Reg       3\n",
       "Car       5\n",
       "Calc     14"
      ]
     },
     "execution_count": 21,
     "metadata": {},
     "output_type": "execute_result"
    }
   ],
   "source": [
    "contcounts = pd.DataFrame({'Ind': [ind], 'Reg': [reg], 'Car': [car], 'Calc': [calc]}).T                    \n",
    "contcounts.rename(columns={0: 'Count'}, inplace=True)\n",
    "contcounts"
   ]
  },
  {
   "cell_type": "code",
   "execution_count": 22,
   "metadata": {
    "ExecuteTime": {
     "end_time": "2020-06-25T15:49:55.549788Z",
     "start_time": "2020-06-25T15:49:55.366254Z"
    },
    "scrolled": true
   },
   "outputs": [
    {
     "data": {
      "image/png": "[encoded data removed]",
      "text/plain": [
       "<Figure size 936x360 with 1 Axes>"
      ]
     },
     "metadata": {
      "needs_background": "light"
     },
     "output_type": "display_data"
    }
   ],
   "source": [
    "fig, ax1 = plt.subplots(figsize=(13, 5))\n",
    "ax1.set_title('Count of Continuous Variables in Data', fontsize=15)\n",
    "ax1.set_xlabel('Features', fontsize=15)\n",
    "graph = sns.barplot(contcounts.index, contcounts['Count'], palette='terrain', ax=ax1)\n",
    "for p in graph.patches:\n",
    "    height = p.get_height()\n",
    "    graph.text(p.get_x() + p.get_width() / 2, height + 0.2, height, ha=\"center\", fontsize=13)"
   ]
  },
  {
   "cell_type": "markdown",
   "metadata": {},
   "source": [
    "**Inferences**\n",
    "- Interval Variables        \n",
    "    - There a 26 Continuous features present in the dataset. They could be either Nominal, Ordinal or Interval.\n",
    "    - There is no way to process information on nature of the variables on on the given dataset. \n",
    "    - Whether the feature has a **ratio** or frequency or a set **heirarchy** to differentiate between ordinality and nominality is **not possible**.\n",
    "    - Datatypes of float64 values in continous features can be assumed to be Interval.\n",
    "    \n",
    "    "
   ]
  },
  {
   "cell_type": "markdown",
   "metadata": {},
   "source": [
    "## EDA: 6 -  Write inferences from data on <font color='deepskyblue'>Ordinal</font> variables."
   ]
  },
  {
   "cell_type": "code",
   "execution_count": 23,
   "metadata": {
    "ExecuteTime": {
     "end_time": "2020-06-25T15:49:55.561729Z",
     "start_time": "2020-06-25T15:49:55.551757Z"
    },
    "collapsed": true
   },
   "outputs": [],
   "source": [
    "ordinal = []\n",
    "for i in df.columns:\n",
    "    if df[i].dtype == 'int64':\n",
    "        ordinal.append(i)\n",
    "    if 'bin' in i:\n",
    "        ordinal.remove(i)\n",
    "\n",
    "for j in ordinal:\n",
    "    if j.endswith('cat') and 'car' in j:\n",
    "        ordinal.remove(j)\n",
    "ordinal.remove('ps_car_04_cat')\n",
    "ordinal.remove('ps_car_08_cat')\n",
    "ordinal.remove('ps_car_11_cat')\n",
    "ordinal.remove('id')\n",
    "ordinal.remove('target')\n",
    "\n",
    "ind = len([c for c in ordinal if c.startswith('ps_ind')])\n",
    "clc = len([c for c in ordinal if c.startswith('ps_calc')])\n",
    "C = 0"
   ]
  },
  {
   "cell_type": "code",
   "execution_count": 24,
   "metadata": {
    "ExecuteTime": {
     "end_time": "2020-06-25T15:49:55.575692Z",
     "start_time": "2020-06-25T15:49:55.563723Z"
    }
   },
   "outputs": [
    {
     "data": {
      "text/html": [
       "<div>\n",
       "<style scoped>\n",
       "    .dataframe tbody tr th:only-of-type {\n",
       "        vertical-align: middle;\n",
       "    }\n",
       "\n",
       "    .dataframe tbody tr th {\n",
       "        vertical-align: top;\n",
       "    }\n",
       "\n",
       "    .dataframe thead th {\n",
       "        text-align: right;\n",
       "    }\n",
       "</style>\n",
       "<table border=\"1\" class=\"dataframe\">\n",
       "  <thead>\n",
       "    <tr style=\"text-align: right;\">\n",
       "      <th></th>\n",
       "      <th>Count</th>\n",
       "    </tr>\n",
       "  </thead>\n",
       "  <tbody>\n",
       "    <tr>\n",
       "      <td>Ind</td>\n",
       "      <td>4</td>\n",
       "    </tr>\n",
       "    <tr>\n",
       "      <td>Reg</td>\n",
       "      <td>0</td>\n",
       "    </tr>\n",
       "    <tr>\n",
       "      <td>Car</td>\n",
       "      <td>0</td>\n",
       "    </tr>\n",
       "    <tr>\n",
       "      <td>Calc</td>\n",
       "      <td>14</td>\n",
       "    </tr>\n",
       "  </tbody>\n",
       "</table>\n",
       "</div>"
      ],
      "text/plain": [
       "      Count\n",
       "Ind       4\n",
       "Reg       0\n",
       "Car       0\n",
       "Calc     14"
      ]
     },
     "execution_count": 24,
     "metadata": {},
     "output_type": "execute_result"
    }
   ],
   "source": [
    "indcounts = pd.DataFrame({'Ind': [ind], 'Reg': [C], 'Car': [C], 'Calc': [calc]}).T                    \n",
    "indcounts.rename(columns={0: 'Count'}, inplace=True)\n",
    "indcounts"
   ]
  },
  {
   "cell_type": "code",
   "execution_count": 25,
   "metadata": {
    "ExecuteTime": {
     "end_time": "2020-06-25T15:49:55.754213Z",
     "start_time": "2020-06-25T15:49:55.577687Z"
    }
   },
   "outputs": [
    {
     "data": {
      "image/png": "[encoded data removed]",
      "text/plain": [
       "<Figure size 720x360 with 1 Axes>"
      ]
     },
     "metadata": {
      "needs_background": "light"
     },
     "output_type": "display_data"
    }
   ],
   "source": [
    "fig, ax1 = plt.subplots(figsize=(10,5))\n",
    "ax1.set_xlabel('Features', fontsize=15)\n",
    "ax1.set_title('Count of possible Ordinal Features in Data', fontsize=15)\n",
    "graph = sns.barplot(indcounts.index, indcounts['Count'], palette='pastel', ax=ax1)\n",
    "for p in graph.patches:\n",
    "    height = p.get_height()\n",
    "    graph.text(p.get_x() + p.get_width() / 2, height + 0.2, height, ha=\"center\", fontsize=13)"
   ]
  },
  {
   "cell_type": "markdown",
   "metadata": {},
   "source": [
    "**Inferences:**    \n",
    "- Ordinal Variables\n",
    "    - There is a designated intrinsic **heirarchy** in ordinal variables. But it is **not possible** to see that heirarchy unless the feature type is known. \n",
    "    - The feature type is not mentioned in the data description to recognise its ordinal nature.\n",
    "    - Datatypes of int64 in continous features can be **assumed** to be Ordinal Variables.\n",
    "    - If assumed, then there are **15** Ordinal feature, with none in Reg and Car features\n",
    "    \n",
    "    \n",
    "    "
   ]
  },
  {
   "cell_type": "markdown",
   "metadata": {},
   "source": [
    "## EDA: 7 -  Write inferences from data on <font color='indianred'>Binary</font> variables."
   ]
  },
  {
   "cell_type": "code",
   "execution_count": 26,
   "metadata": {
    "ExecuteTime": {
     "end_time": "2020-06-25T15:49:55.810327Z",
     "start_time": "2020-06-25T15:49:55.756208Z"
    },
    "collapsed": true
   },
   "outputs": [],
   "source": [
    "bin_col = [col for col in df.columns if '_bin' in col]\n",
    "zeros = []\n",
    "ones = []\n",
    "for col in bin_col:\n",
    "    zeros.append((df[col] == 0).sum())\n",
    "    ones.append((df[col] == 1).sum())\n",
    "\n",
    "bc = pd.DataFrame(list(zip(bin_col, zeros, ones)), columns=['Bin Col', 'Zeros', 'Ones'])"
   ]
  },
  {
   "cell_type": "code",
   "execution_count": 27,
   "metadata": {
    "ExecuteTime": {
     "end_time": "2020-06-25T15:49:56.143293Z",
     "start_time": "2020-06-25T15:49:55.812138Z"
    }
   },
   "outputs": [
    {
     "data": {
      "image/png": "[encoded data removed]",
      "text/plain": [
       "<Figure size 864x360 with 1 Axes>"
      ]
     },
     "metadata": {
      "needs_background": "light"
     },
     "output_type": "display_data"
    }
   ],
   "source": [
    "colors = ['seagreen', 'skyblue']\n",
    "ax1 = bc.plot(kind='bar', stacked=True, figsize=(12,5), color=colors)\n",
    "ax1.set_title('Count of 0s and 1s in Binary Features', fontsize=18)\n",
    "ax1.set_xticklabels(bc['Bin Col'])\n",
    "plt.show()"
   ]
  },
  {
   "cell_type": "markdown",
   "metadata": {},
   "source": [
    "**Inferences:**\n",
    "- Binary Variables\n",
    "    \n",
    "    - Binary variables have no intrinsic ordering, and only assume values of 0 or 1.\n",
    "    - There are 17 binary variables present in the dataset.\n",
    "    - The values are 0 and 1.\n",
    "    - There are more 0s than 1s in the Bin Dataset, indicating a sparse matrix.\n",
    "- Many of these are heavily imbalanced. Like **ind10, ind11, ind12, ind13** and should be dropped."
   ]
  },
  {
   "cell_type": "markdown",
   "metadata": {},
   "source": [
    "## EDA: 8 - Check if the Target data is <font color='olivedrab'>proportionate</font> or not. (Hint: Below 30% for binary data is sign of imbalance)."
   ]
  },
  {
   "cell_type": "code",
   "execution_count": 28,
   "metadata": {
    "ExecuteTime": {
     "end_time": "2020-06-25T15:49:56.331774Z",
     "start_time": "2020-06-25T15:49:56.145247Z"
    }
   },
   "outputs": [
    {
     "data": {
      "image/png": "[encoded data removed]",
      "text/plain": [
       "<Figure size 720x360 with 1 Axes>"
      ]
     },
     "metadata": {
      "needs_background": "light"
     },
     "output_type": "display_data"
    }
   ],
   "source": [
    "plt.figure(figsize=(10,5))\n",
    "plt.xlabel('Target Feature', fontsize=16)\n",
    "plt.ylabel('Observations', fontsize=16)\n",
    "graph = sns.countplot(df.target, palette='Accent')\n",
    "for p in graph.patches:\n",
    "    height = p.get_height()\n",
    "    graph.text(p.get_x() + p.get_width() / 2, height + 0.2, \n",
    "               round(height/df.shape[0]*100, 2), ha=\"center\", fontsize=13)"
   ]
  },
  {
   "cell_type": "markdown",
   "metadata": {},
   "source": [
    "**Inferences:**\n",
    "- Insurance claimed is 21694 and there are 573518 unclaimed cases.\n",
    "\n",
    "- Yes, the target feature is heavily imbalanced in the ratio of 96.3% to 3.6% \n",
    "which is far lesser than 30%."
   ]
  },
  {
   "cell_type": "markdown",
   "metadata": {},
   "source": [
    "## EDA: 9 - What should be the preferred way in this case to <font color='olive'>balance</font> the data?"
   ]
  },
  {
   "cell_type": "markdown",
   "metadata": {},
   "source": [
    "**Inferences:**\n",
    "- Claimed Insurance cases are 21694.\n",
    "- Unclaimed cases are 573518. Hence the data is evidently imbalanced.\n",
    "- We should attempt to make predictions by using **Resampling** technique. \n",
    "100% of the minority class data should be pitched against the majority class\n",
    "such that the classes get balanced. \n",
    "- Since the dataset is very **large**, and minority target class is 3.7% in strength, it could be worthy to choose **Down Sampling** technique for this case.\n",
    "\n",
    "- However, we will use **SMOTE** technique when training dataset with Multilayer Perceptron Neural Network instead of Resampling the dataset."
   ]
  },
  {
   "cell_type": "markdown",
   "metadata": {},
   "source": [
    "## EDA: 10 - How many training <font color='salmon'>records</font> are there after achieving a balance of 12%?"
   ]
  },
  {
   "cell_type": "markdown",
   "metadata": {
    "ExecuteTime": {
     "end_time": "2020-05-14T07:47:11.997866Z",
     "start_time": "2020-05-14T07:47:11.992872Z"
    }
   },
   "source": [
    "**Inferences:**\n",
    "- To see training records after achieving a downsampled 88%-12% ratio, we will reduce the majority target class by 12% after deducting the claimed values of 21964."
   ]
  },
  {
   "cell_type": "code",
   "execution_count": 29,
   "metadata": {
    "ExecuteTime": {
     "end_time": "2020-06-25T15:49:56.351700Z",
     "start_time": "2020-06-25T15:49:56.333744Z"
    }
   },
   "outputs": [
    {
     "name": "stdout",
     "output_type": "stream",
     "text": [
      "\n",
      "Total Records: 595212 | \u001b[1;32mUnclaimed:\u001b[0m 573518 | \u001b[1;31mClaimed:\u001b[0m 21694\n",
      "\n",
      "\u001b[1;32mTraining Records\u001b[0m after achieving 12% balance ratio = \u001b[1;32m504695\u001b[0m\n"
     ]
    }
   ],
   "source": [
    "ct = df.target.value_counts()   # Counts per target feature\n",
    "print(f'\\nTotal Records: {df.shape[0]} | \\033[1;32mUnclaimed:\\033[0m {ct[0]} | \\033[1;31mClaimed:\\033[0m {ct[1]}')\n",
    "\n",
    "tt = df.shape[0] - ct[1]    # Total -(minus) Claimed\n",
    "uc = np.floor(tt * 0.88).astype(int)   # Total Unclaimed to get 12% Balance.\n",
    "\n",
    "print(f'\\n\\033[1;32mTraining Records\\033[0m after achieving 12% balance ratio = \\033[1;32m{uc}\\033[0m')"
   ]
  },
  {
   "cell_type": "markdown",
   "metadata": {
    "ExecuteTime": {
     "end_time": "2020-05-12T18:07:39.394927Z",
     "start_time": "2020-05-12T18:07:39.389941Z"
    }
   },
   "source": [
    "## EDA: 11- Which are the <font color='yellowgreen'>top two</font> features in terms of missing values?"
   ]
  },
  {
   "cell_type": "code",
   "execution_count": 30,
   "metadata": {
    "ExecuteTime": {
     "end_time": "2020-06-25T15:49:56.704750Z",
     "start_time": "2020-06-25T15:49:56.353691Z"
    }
   },
   "outputs": [
    {
     "data": {
      "image/png": "[encoded data removed]",
      "text/plain": [
       "<Figure size 720x360 with 1 Axes>"
      ]
     },
     "metadata": {
      "needs_background": "light"
     },
     "output_type": "display_data"
    }
   ],
   "source": [
    "plt.figure(figsize=(10,5))\n",
    "plt.xlabel('Feature', fontsize=15)\n",
    "plt.ylabel('Num of Missing Values', fontsize=15)\n",
    "clr = ['lightgreen', 'salmon', 'orchid', 'coral']\n",
    "graph = df.isna().sum().sort_values(ascending=False).head(4).plot(kind='bar', rot=0, color=clr)\n",
    "for p in graph.patches:\n",
    "    height = p.get_height()\n",
    "    graph.text(p.get_x() + p.get_width() / 2, height + 0.2, height, ha=\"center\", fontsize=13)"
   ]
  },
  {
   "cell_type": "markdown",
   "metadata": {},
   "source": [
    "**Inferences:**\n",
    "- ps_car_03_cat and ps_car_05_cat are the top two features with most missing values."
   ]
  },
  {
   "cell_type": "markdown",
   "metadata": {},
   "source": [
    "## EDA: 12 - In total, how many features have <font color='indianred'>missing values</font>?"
   ]
  },
  {
   "cell_type": "code",
   "execution_count": 31,
   "metadata": {
    "ExecuteTime": {
     "end_time": "2020-06-25T15:49:56.835400Z",
     "start_time": "2020-06-25T15:49:56.706745Z"
    }
   },
   "outputs": [
    {
     "name": "stdout",
     "output_type": "stream",
     "text": [
      "\n",
      "There are \u001b[1;31m12\u001b[0m features with missing values.\n"
     ]
    }
   ],
   "source": [
    "rf = df.isna().sum().sort_values(ascending=False)\n",
    "print(f'\\nThere are \\033[1;31m{len(rf[rf.values > 0])}\\033[0m features with missing values.')"
   ]
  },
  {
   "cell_type": "markdown",
   "metadata": {},
   "source": [
    "## EDA: 13 - What steps should be taken to <font color='deepskyblue'>handle</font> the missing data?"
   ]
  },
  {
   "cell_type": "markdown",
   "metadata": {
    "ExecuteTime": {
     "end_time": "2020-05-14T09:02:33.877799Z",
     "start_time": "2020-05-14T09:02:33.872810Z"
    }
   },
   "source": [
    "**Steps:**\n",
    "- As a rule of thumb, features with missing values greater than 5% should be dropped.\n",
    "- Imputations can be done with following rules:\n",
    "    - Interval / Continuous variables with less than 5% missing values can be imputed by their Means.\n",
    "    - Categorical variables with less than 5% missing values can be imputed by their Modes.\n",
    "    - Ordinal variables with less than 5% missing values can be imputed by their Medians.\n",
    "- Columns with equal number of values as total observation should be dropped. (Ex. ID)\n",
    "- Columns with one unique value must be dropped. (Useless information)\n",
    "- Categorical columns with high cardinality (too many unique values) should be dropped.\n",
    "- However, our dataset is too large to inject artificial data via imputations. Hence we can drop na values safely and still retain a large number of records."
   ]
  },
  {
   "cell_type": "markdown",
   "metadata": {},
   "source": [
    "#### Feature Removal and Optimization"
   ]
  },
  {
   "cell_type": "code",
   "execution_count": 32,
   "metadata": {
    "ExecuteTime": {
     "end_time": "2020-06-25T15:49:57.555475Z",
     "start_time": "2020-06-25T15:49:56.837423Z"
    }
   },
   "outputs": [
    {
     "name": "stdout",
     "output_type": "stream",
     "text": [
      "\n",
      "\u001b[1;31mColumns dropped:\u001b[0m ['ps_car_03_cat', 'ps_car_05_cat', 'ps_reg_03', 'ps_car_14']\n",
      "\n",
      "\u001b[1;32mShape after Cleaning Data:\u001b[0m (582852, 54)\n"
     ]
    }
   ],
   "source": [
    "# Dropping columns with missing values larger than 5%.\n",
    "to_drop = list(df.isna().sum().sort_values(ascending=False).head(4).index)\n",
    "\n",
    "# Dropping missing values instead of injecting artifical data via imputations.\n",
    "df.drop(to_drop, inplace=True, axis=1)\n",
    "df.dropna(inplace=True)\n",
    "df.drop('id', axis=1, inplace=True)  # Removing ID column.\n",
    "\n",
    "print(f'\\n\\033[1;31mColumns dropped:\\033[0m {to_drop}')\n",
    "print(f'\\n\\033[1;32mShape after Cleaning Data:\\033[0m {df.shape}')"
   ]
  },
  {
   "cell_type": "markdown",
   "metadata": {},
   "source": [
    "## EDA: 14, 15 - Which Interval variables have strong <font color='cadetblue'>correlation</font>? Whats the level of coordination among Ordinal features?"
   ]
  },
  {
   "cell_type": "code",
   "execution_count": 33,
   "metadata": {
    "ExecuteTime": {
     "end_time": "2020-06-25T15:49:57.562456Z",
     "start_time": "2020-06-25T15:49:57.557471Z"
    },
    "collapsed": true
   },
   "outputs": [],
   "source": [
    "carfeat.remove('ps_car_14')   # Since these have been dropped earlier, we should drop them from our list as well.\n",
    "regfeat.remove('ps_reg_03')"
   ]
  },
  {
   "cell_type": "code",
   "execution_count": 34,
   "metadata": {
    "ExecuteTime": {
     "end_time": "2020-06-25T15:50:04.915818Z",
     "start_time": "2020-06-25T15:49:57.564451Z"
    }
   },
   "outputs": [
    {
     "data": {
      "image/png": "[encoded data removed]",
      "text/plain": [
       "<Figure size 1224x792 with 2 Axes>"
      ]
     },
     "metadata": {
      "needs_background": "light"
     },
     "output_type": "display_data"
    }
   ],
   "source": [
    "plt.figure(figsize=(17,11))\n",
    "sns.heatmap(df.corr(), cmap='BuPu')            # 8 seconds\n",
    "plt.title('Pearsons Correlation of all Features', fontsize=15)\n",
    "plt.show()"
   ]
  },
  {
   "cell_type": "markdown",
   "metadata": {},
   "source": [
    "**Inferences:**\n",
    "- The heatmap above shows the correlation between all the features with one another.\n",
    "- All of the vastly expansive light blue marks an area of no correlation. \n",
    "    - Mainly marked by calc features, which exhibit **purposelessness**.\n",
    "    - Binary features are also visualized in the plain blue zone. \n",
    "    - But since Binary values only have 0s and 1s, they can't be used to show any correlation, yet can't be flagged to drop."
   ]
  },
  {
   "cell_type": "code",
   "execution_count": 35,
   "metadata": {
    "ExecuteTime": {
     "end_time": "2020-06-25T15:50:06.681103Z",
     "start_time": "2020-06-25T15:50:04.918784Z"
    },
    "scrolled": false
   },
   "outputs": [
    {
     "data": {
      "image/png": "[encoded data removed]",
      "text/plain": [
       "<Figure size 1224x792 with 2 Axes>"
      ]
     },
     "metadata": {
      "needs_background": "light"
     },
     "output_type": "display_data"
    }
   ],
   "source": [
    "plt.figure(figsize=(17,11))\n",
    "sns.heatmap(df[indfeat + calcfeat + carfeat + regfeat + target].corr(), cmap='plasma')\n",
    "plt.title('Pearsons Correlation of all Continous Features', fontsize=15)\n",
    "plt.show()"
   ]
  },
  {
   "cell_type": "markdown",
   "metadata": {},
   "source": [
    "**Inferences:**\n",
    "- Calc features seem to have not much effect on each other and carry very low correlation.\n",
    "    - Hence **calc features** will be **dropped** from the dataset."
   ]
  },
  {
   "cell_type": "code",
   "execution_count": 36,
   "metadata": {
    "ExecuteTime": {
     "end_time": "2020-06-25T15:50:07.722286Z",
     "start_time": "2020-06-25T15:50:06.683105Z"
    }
   },
   "outputs": [
    {
     "data": {
      "image/png": "[encoded data removed]",
      "text/plain": [
       "<Figure size 1224x792 with 2 Axes>"
      ]
     },
     "metadata": {
      "needs_background": "light"
     },
     "output_type": "display_data"
    }
   ],
   "source": [
    "plt.figure(figsize=(17,11))\n",
    "sns.heatmap(df[indfeat + carfeat + regfeat + target].corr(), \n",
    "            linewidth=0.5, cmap='viridis', annot=True)\n",
    "plt.title('Pearsons Correlation between Oridinal features and Target', fontsize=15)\n",
    "plt.show()"
   ]
  },
  {
   "cell_type": "markdown",
   "metadata": {},
   "source": [
    "There are a strong correlations between the variables:\n",
    "\n",
    "- ps_reg_02 and ps_reg_03 \n",
    "- ps_car_12 and ps_car13 \n",
    "- ps_car_12 and ps_car14 \n",
    "- ps_car_13 and ps_car15 \n",
    "\n",
    "We can plot a regression plot to check linearity between Features with high correlation below."
   ]
  },
  {
   "cell_type": "code",
   "execution_count": 58,
   "metadata": {
    "ExecuteTime": {
     "end_time": "2020-06-25T15:57:50.236742Z",
     "start_time": "2020-06-25T15:57:45.841431Z"
    }
   },
   "outputs": [
    {
     "data": {
      "image/png": "[encoded data removed]",
      "text/plain": [
       "<Figure size 405.725x360 with 1 Axes>"
      ]
     },
     "metadata": {
      "needs_background": "light"
     },
     "output_type": "display_data"
    }
   ],
   "source": [
    "s = df.sample(frac=0.1)\n",
    "sns.lmplot(x='ps_car_12', y='ps_car_13', data=s, hue='target', \n",
    "           palette='terrain', scatter_kws={'alpha':0.3})\n",
    "\n",
    "plt.show()           # 5s"
   ]
  },
  {
   "cell_type": "code",
   "execution_count": 52,
   "metadata": {
    "ExecuteTime": {
     "end_time": "2020-06-25T15:56:41.165047Z",
     "start_time": "2020-06-25T15:56:36.549421Z"
    }
   },
   "outputs": [
    {
     "data": {
      "image/png": "[encoded data removed]",
      "text/plain": [
       "<Figure size 405.725x360 with 1 Axes>"
      ]
     },
     "metadata": {
      "needs_background": "light"
     },
     "output_type": "display_data"
    }
   ],
   "source": [
    "sns.lmplot(x='ps_car_15', y='ps_car_13', data=s, hue='target', \n",
    "           palette='Set2', scatter_kws={'alpha':0.3})\n",
    "\n",
    "plt.show()         # 5s"
   ]
  },
  {
   "cell_type": "markdown",
   "metadata": {},
   "source": [
    "#### More Feature Optimization and Removal"
   ]
  },
  {
   "cell_type": "code",
   "execution_count": 59,
   "metadata": {
    "ExecuteTime": {
     "end_time": "2020-06-25T15:59:40.986919Z",
     "start_time": "2020-06-25T15:59:40.862218Z"
    },
    "collapsed": true
   },
   "outputs": [],
   "source": [
    "df.drop(calcfeat, axis=1, inplace=True)"
   ]
  },
  {
   "cell_type": "markdown",
   "metadata": {},
   "source": [
    "**Inferences:**\n",
    "- Ordinal features with lighter shades hold strong correlation with other ordinal features.\n",
    "- Due barely any correlation found between **calcfeatures**, it is advisable to **remove** the features to lessen the curse of dimensionality.\n",
    "- The feature **'ps_car_11_cat'** could also be removed as it exhibited high cardinality in terms of unique values (104) as a categorical variable, but we will keep it as it will not effect the F1 Score later.\n",
    "    - If **ps_car_11_cat** could be **label encoded** instead of One Hot Encoded, it would reduce the amounts of Features created after one hot encoding as it has **104** unique values.\n",
    "    - This feature doesnt give us any information about its ordinality, hence **label encoding** is advisable."
   ]
  },
  {
   "cell_type": "markdown",
   "metadata": {
    "ExecuteTime": {
     "end_time": "2020-05-15T11:07:45.918193Z",
     "start_time": "2020-05-15T11:07:45.915195Z"
    }
   },
   "source": [
    "## EDA: 16 - Implement <font color='deepskyblue'>One Hot</font> Encoding for categorical features.\n"
   ]
  },
  {
   "cell_type": "code",
   "execution_count": 60,
   "metadata": {
    "ExecuteTime": {
     "end_time": "2020-06-25T15:59:44.915556Z",
     "start_time": "2020-06-25T15:59:40.989904Z"
    },
    "collapsed": true
   },
   "outputs": [],
   "source": [
    "# Converting to type Object for categorical features.\n",
    "for i in df.columns:\n",
    "    if 'cat' in i:\n",
    "        df[i] = df[i].astype(str)\n",
    "\n",
    "dfz = df.copy()    # dfz will goto Downsampling   # 4s"
   ]
  },
  {
   "cell_type": "markdown",
   "metadata": {},
   "source": [
    "#### ONE HOT ENCODING"
   ]
  },
  {
   "cell_type": "code",
   "execution_count": 61,
   "metadata": {
    "ExecuteTime": {
     "end_time": "2020-06-25T15:59:45.056001Z",
     "start_time": "2020-06-25T15:59:44.918370Z"
    }
   },
   "outputs": [
    {
     "data": {
      "text/plain": [
       "(582852, 40)"
      ]
     },
     "execution_count": 61,
     "metadata": {},
     "output_type": "execute_result"
    }
   ],
   "source": [
    "df0 = df.copy()      # For checking Scores without OHE later during modelling\n",
    "df0.shape"
   ]
  },
  {
   "cell_type": "code",
   "execution_count": 62,
   "metadata": {
    "ExecuteTime": {
     "end_time": "2020-06-25T15:59:46.299675Z",
     "start_time": "2020-06-25T15:59:45.057995Z"
    }
   },
   "outputs": [
    {
     "name": "stdout",
     "output_type": "stream",
     "text": [
      "\n",
      "\u001b[1;33mDataset before One Hot Encoding:\u001b[0m \u001b[1;30;43m(582852, 40)\u001b[0m\n",
      "\n",
      "\u001b[1;34mDataset after One Hot Encoding:\u001b[0m \u001b[1;30;44m(582852, 187)\u001b[0m\n"
     ]
    }
   ],
   "source": [
    "df = pd.get_dummies(df, drop_first=True)\n",
    "print(f'\\n\\033[1;33mDataset before One Hot Encoding:\\033[0m \\033[1;30;43m{dfz.shape}\\033[0m')\n",
    "print(f'\\n\\033[1;34mDataset after One Hot Encoding:\\033[0m \\033[1;30;44m{df.shape}\\033[0m')"
   ]
  },
  {
   "cell_type": "markdown",
   "metadata": {},
   "source": [
    "## EDA: 17 - In Nominal and Interval features, which features are suitable for <font color='orangered'>Standard Scaler?</font>"
   ]
  },
  {
   "cell_type": "markdown",
   "metadata": {},
   "source": [
    "#### TRAIN TEST SPLIT "
   ]
  },
  {
   "cell_type": "code",
   "execution_count": 63,
   "metadata": {
    "ExecuteTime": {
     "end_time": "2020-06-25T15:59:47.295014Z",
     "start_time": "2020-06-25T15:59:46.301669Z"
    }
   },
   "outputs": [
    {
     "data": {
      "text/plain": [
       "((524566, 186), (524566,), (58286, 186), (58286,))"
      ]
     },
     "execution_count": 63,
     "metadata": {},
     "output_type": "execute_result"
    }
   ],
   "source": [
    "X = df.drop('target', axis=1)\n",
    "y = df.target\n",
    "\n",
    "X_train, X_test, y_train, y_test = train_test_split(X, y, \n",
    "                                                    test_size=0.1, random_state=22)\n",
    "\n",
    "X_train.shape, y_train.shape, X_test.shape, y_test.shape"
   ]
  },
  {
   "cell_type": "markdown",
   "metadata": {},
   "source": [
    "#### DATA PREPROCESSING"
   ]
  },
  {
   "cell_type": "code",
   "execution_count": 64,
   "metadata": {
    "ExecuteTime": {
     "end_time": "2020-06-25T15:59:51.107842Z",
     "start_time": "2020-06-25T15:59:47.297007Z"
    },
    "collapsed": true
   },
   "outputs": [],
   "source": [
    "scaler = StandardScaler()\n",
    "X_train = scaler.fit_transform(X_train)\n",
    "X_test = scaler.transform(X_test)"
   ]
  },
  {
   "cell_type": "markdown",
   "metadata": {
    "ExecuteTime": {
     "end_time": "2020-05-20T15:48:35.154751Z",
     "start_time": "2020-05-20T15:48:35.148783Z"
    }
   },
   "source": [
    "**Inferences:**\n",
    "- Due to lack of any **important information** in **Calc** features, they were **dropped**.\n",
    "- Binary features are 0s and 1s and hence **won't be effected** by Scaling.\n",
    "- Categorical features will be scaled.\n",
    "- Continous float and integer features will need scaling.\n",
    "- Hence, it is safe to scale the **entire dataset** in one go."
   ]
  },
  {
   "cell_type": "markdown",
   "metadata": {},
   "source": [
    "### EDA: 18 -  Summarize the learnings of <font color='coral'>EDA.</font>"
   ]
  },
  {
   "cell_type": "markdown",
   "metadata": {
    "ExecuteTime": {
     "end_time": "2020-06-23T16:10:57.766868Z",
     "start_time": "2020-06-23T16:10:57.762266Z"
    }
   },
   "source": [
    "###### **SUMMARY:**\n",
    "\n",
    "- The dataset is available with **97.6%** integrity. Remaining data was missing.\n",
    "- The Dataset has 59 features and 595,212 observations.\n",
    "\n",
    "\n",
    "- There are 17 binary variables present in the dataset.\n",
    "- There are more 0s than 1s in the Bin Dataset, indicating a **sparse matrix** of binary features.\n",
    "- Many of the binary features are heavily imbalanced. Like ind10, ind11, ind12, ind13 and should be dropped.\n",
    "\n",
    "\n",
    "- Cases of Claimed insurance is **21,694** and there are **5,73,518** unclaimed cases.\n",
    "\n",
    "\n",
    "- The Claimed Feature feature is heavily imbalanced in the ratio of **96.3%** to **3.6%**.\n",
    "\n",
    "\n",
    "- We should attempt to make predictions by using Resampling technique. \n",
    "    - 100% of the minority class data should be pitched against the majority class such that the classes get balanced.\n",
    "    - **SMOTE** should be used with **Neural Network** classifiers.\n",
    "\n",
    "\n",
    "- Since the dataset is very large, and minority target class is 3.7% in strength, it could be worthy to choose Down Sampling technique for this case.\n",
    "\n",
    "\n",
    "- Training dataset is too large to inject artificial data via imputations. Hence we can **drop** na values safely and still **retain a large number of records**.\n",
    "\n",
    "\n",
    "- Most **calc features** exhibit purposelessness.\n",
    "\n",
    "\n",
    "- Due barely any correlation found between calcfeatures, it is advisable to remove the features to lessen the curse of dimensionality.\n",
    "- If ps_car_11_cat could be label encoded instead of One Hot Encoded, it would reduce the amounts of Features created after one hot encoding as it has 104 unique values.\n",
    "- The feature 'ps_car_11_cat', doesnt give us any information about its ordinality, hence label encoding is **advisable** instead of One Hot Encoding. However, since the questionnaire asks for OHE, we will continue with both."
   ]
  },
  {
   "cell_type": "markdown",
   "metadata": {},
   "source": [
    "# <font color='dodgerblue'>MODELLING</font> / MODEL DEVELOPMENT"
   ]
  },
  {
   "cell_type": "markdown",
   "metadata": {},
   "source": [
    "#### <font color='indianred'>DOWNSAMPLING</font> THE DATAFRAME TO BUILD MODEL"
   ]
  },
  {
   "cell_type": "code",
   "execution_count": 65,
   "metadata": {
    "ExecuteTime": {
     "end_time": "2020-06-25T15:59:51.486803Z",
     "start_time": "2020-06-25T15:59:51.110808Z"
    }
   },
   "outputs": [
    {
     "data": {
      "text/html": [
       "<div>\n",
       "<style scoped>\n",
       "    .dataframe tbody tr th:only-of-type {\n",
       "        vertical-align: middle;\n",
       "    }\n",
       "\n",
       "    .dataframe tbody tr th {\n",
       "        vertical-align: top;\n",
       "    }\n",
       "\n",
       "    .dataframe thead th {\n",
       "        text-align: right;\n",
       "    }\n",
       "</style>\n",
       "<table border=\"1\" class=\"dataframe\">\n",
       "  <thead>\n",
       "    <tr style=\"text-align: right;\">\n",
       "      <th></th>\n",
       "      <th>target</th>\n",
       "      <th>ps_ind_01</th>\n",
       "      <th>ps_ind_02_cat</th>\n",
       "      <th>ps_ind_03</th>\n",
       "      <th>ps_ind_04_cat</th>\n",
       "      <th>ps_ind_05_cat</th>\n",
       "      <th>ps_ind_06_bin</th>\n",
       "      <th>ps_ind_07_bin</th>\n",
       "      <th>ps_ind_08_bin</th>\n",
       "      <th>ps_ind_09_bin</th>\n",
       "      <th>ps_ind_10_bin</th>\n",
       "      <th>ps_ind_11_bin</th>\n",
       "      <th>ps_ind_12_bin</th>\n",
       "      <th>ps_ind_13_bin</th>\n",
       "      <th>ps_ind_14</th>\n",
       "      <th>ps_ind_15</th>\n",
       "      <th>ps_ind_16_bin</th>\n",
       "      <th>ps_ind_17_bin</th>\n",
       "      <th>ps_ind_18_bin</th>\n",
       "      <th>ps_reg_01</th>\n",
       "      <th>ps_reg_02</th>\n",
       "      <th>ps_car_01_cat</th>\n",
       "      <th>ps_car_02_cat</th>\n",
       "      <th>ps_car_04_cat</th>\n",
       "      <th>ps_car_06_cat</th>\n",
       "      <th>ps_car_07_cat</th>\n",
       "      <th>ps_car_08_cat</th>\n",
       "      <th>ps_car_09_cat</th>\n",
       "      <th>ps_car_10_cat</th>\n",
       "      <th>ps_car_11_cat</th>\n",
       "      <th>ps_car_11</th>\n",
       "      <th>ps_car_12</th>\n",
       "      <th>ps_car_13</th>\n",
       "      <th>ps_car_15</th>\n",
       "      <th>ps_calc_15_bin</th>\n",
       "      <th>ps_calc_16_bin</th>\n",
       "      <th>ps_calc_17_bin</th>\n",
       "      <th>ps_calc_18_bin</th>\n",
       "      <th>ps_calc_19_bin</th>\n",
       "      <th>ps_calc_20_bin</th>\n",
       "    </tr>\n",
       "  </thead>\n",
       "  <tbody>\n",
       "    <tr>\n",
       "      <td>312892</td>\n",
       "      <td>1</td>\n",
       "      <td>1</td>\n",
       "      <td>1.0</td>\n",
       "      <td>3</td>\n",
       "      <td>0.0</td>\n",
       "      <td>0.0</td>\n",
       "      <td>0</td>\n",
       "      <td>1</td>\n",
       "      <td>0</td>\n",
       "      <td>0</td>\n",
       "      <td>0</td>\n",
       "      <td>0</td>\n",
       "      <td>0</td>\n",
       "      <td>0</td>\n",
       "      <td>0</td>\n",
       "      <td>2</td>\n",
       "      <td>1</td>\n",
       "      <td>0</td>\n",
       "      <td>0</td>\n",
       "      <td>0.0</td>\n",
       "      <td>1.8</td>\n",
       "      <td>9.0</td>\n",
       "      <td>0</td>\n",
       "      <td>1</td>\n",
       "      <td>13</td>\n",
       "      <td>1.0</td>\n",
       "      <td>0</td>\n",
       "      <td>2.0</td>\n",
       "      <td>1</td>\n",
       "      <td>104</td>\n",
       "      <td>2.0</td>\n",
       "      <td>0.447214</td>\n",
       "      <td>1.225571</td>\n",
       "      <td>3.741657</td>\n",
       "      <td>0</td>\n",
       "      <td>0</td>\n",
       "      <td>1</td>\n",
       "      <td>0</td>\n",
       "      <td>1</td>\n",
       "      <td>0</td>\n",
       "    </tr>\n",
       "    <tr>\n",
       "      <td>12080</td>\n",
       "      <td>0</td>\n",
       "      <td>2</td>\n",
       "      <td>1.0</td>\n",
       "      <td>11</td>\n",
       "      <td>0.0</td>\n",
       "      <td>0.0</td>\n",
       "      <td>0</td>\n",
       "      <td>0</td>\n",
       "      <td>0</td>\n",
       "      <td>1</td>\n",
       "      <td>0</td>\n",
       "      <td>0</td>\n",
       "      <td>0</td>\n",
       "      <td>0</td>\n",
       "      <td>0</td>\n",
       "      <td>12</td>\n",
       "      <td>1</td>\n",
       "      <td>0</td>\n",
       "      <td>0</td>\n",
       "      <td>0.6</td>\n",
       "      <td>0.7</td>\n",
       "      <td>10.0</td>\n",
       "      <td>0</td>\n",
       "      <td>0</td>\n",
       "      <td>10</td>\n",
       "      <td>1.0</td>\n",
       "      <td>1</td>\n",
       "      <td>0.0</td>\n",
       "      <td>1</td>\n",
       "      <td>28</td>\n",
       "      <td>3.0</td>\n",
       "      <td>0.374166</td>\n",
       "      <td>0.928898</td>\n",
       "      <td>3.162278</td>\n",
       "      <td>0</td>\n",
       "      <td>1</td>\n",
       "      <td>0</td>\n",
       "      <td>0</td>\n",
       "      <td>0</td>\n",
       "      <td>0</td>\n",
       "    </tr>\n",
       "    <tr>\n",
       "      <td>5159</td>\n",
       "      <td>1</td>\n",
       "      <td>1</td>\n",
       "      <td>1.0</td>\n",
       "      <td>2</td>\n",
       "      <td>1.0</td>\n",
       "      <td>0.0</td>\n",
       "      <td>0</td>\n",
       "      <td>1</td>\n",
       "      <td>0</td>\n",
       "      <td>0</td>\n",
       "      <td>0</td>\n",
       "      <td>0</td>\n",
       "      <td>0</td>\n",
       "      <td>0</td>\n",
       "      <td>0</td>\n",
       "      <td>12</td>\n",
       "      <td>1</td>\n",
       "      <td>0</td>\n",
       "      <td>0</td>\n",
       "      <td>0.8</td>\n",
       "      <td>0.2</td>\n",
       "      <td>5.0</td>\n",
       "      <td>1</td>\n",
       "      <td>0</td>\n",
       "      <td>6</td>\n",
       "      <td>0.0</td>\n",
       "      <td>1</td>\n",
       "      <td>2.0</td>\n",
       "      <td>1</td>\n",
       "      <td>26</td>\n",
       "      <td>3.0</td>\n",
       "      <td>0.374166</td>\n",
       "      <td>0.635096</td>\n",
       "      <td>2.645751</td>\n",
       "      <td>0</td>\n",
       "      <td>0</td>\n",
       "      <td>1</td>\n",
       "      <td>1</td>\n",
       "      <td>0</td>\n",
       "      <td>1</td>\n",
       "    </tr>\n",
       "    <tr>\n",
       "      <td>5495</td>\n",
       "      <td>0</td>\n",
       "      <td>2</td>\n",
       "      <td>1.0</td>\n",
       "      <td>2</td>\n",
       "      <td>1.0</td>\n",
       "      <td>0.0</td>\n",
       "      <td>0</td>\n",
       "      <td>0</td>\n",
       "      <td>0</td>\n",
       "      <td>1</td>\n",
       "      <td>0</td>\n",
       "      <td>0</td>\n",
       "      <td>0</td>\n",
       "      <td>0</td>\n",
       "      <td>0</td>\n",
       "      <td>13</td>\n",
       "      <td>1</td>\n",
       "      <td>0</td>\n",
       "      <td>0</td>\n",
       "      <td>0.3</td>\n",
       "      <td>0.4</td>\n",
       "      <td>6.0</td>\n",
       "      <td>1</td>\n",
       "      <td>0</td>\n",
       "      <td>11</td>\n",
       "      <td>1.0</td>\n",
       "      <td>1</td>\n",
       "      <td>0.0</td>\n",
       "      <td>1</td>\n",
       "      <td>16</td>\n",
       "      <td>3.0</td>\n",
       "      <td>0.374166</td>\n",
       "      <td>0.719317</td>\n",
       "      <td>3.316625</td>\n",
       "      <td>0</td>\n",
       "      <td>0</td>\n",
       "      <td>1</td>\n",
       "      <td>1</td>\n",
       "      <td>1</td>\n",
       "      <td>0</td>\n",
       "    </tr>\n",
       "    <tr>\n",
       "      <td>228665</td>\n",
       "      <td>1</td>\n",
       "      <td>0</td>\n",
       "      <td>2.0</td>\n",
       "      <td>3</td>\n",
       "      <td>1.0</td>\n",
       "      <td>0.0</td>\n",
       "      <td>0</td>\n",
       "      <td>1</td>\n",
       "      <td>0</td>\n",
       "      <td>0</td>\n",
       "      <td>0</td>\n",
       "      <td>0</td>\n",
       "      <td>0</td>\n",
       "      <td>0</td>\n",
       "      <td>0</td>\n",
       "      <td>5</td>\n",
       "      <td>0</td>\n",
       "      <td>0</td>\n",
       "      <td>1</td>\n",
       "      <td>0.9</td>\n",
       "      <td>1.3</td>\n",
       "      <td>11.0</td>\n",
       "      <td>0</td>\n",
       "      <td>0</td>\n",
       "      <td>7</td>\n",
       "      <td>1.0</td>\n",
       "      <td>0</td>\n",
       "      <td>2.0</td>\n",
       "      <td>1</td>\n",
       "      <td>104</td>\n",
       "      <td>3.0</td>\n",
       "      <td>0.400000</td>\n",
       "      <td>1.082066</td>\n",
       "      <td>3.605551</td>\n",
       "      <td>0</td>\n",
       "      <td>1</td>\n",
       "      <td>1</td>\n",
       "      <td>0</td>\n",
       "      <td>1</td>\n",
       "      <td>1</td>\n",
       "    </tr>\n",
       "  </tbody>\n",
       "</table>\n",
       "</div>"
      ],
      "text/plain": [
       "        target  ps_ind_01 ps_ind_02_cat  ps_ind_03 ps_ind_04_cat  \\\n",
       "312892       1          1           1.0          3           0.0   \n",
       "12080        0          2           1.0         11           0.0   \n",
       "5159         1          1           1.0          2           1.0   \n",
       "5495         0          2           1.0          2           1.0   \n",
       "228665       1          0           2.0          3           1.0   \n",
       "\n",
       "       ps_ind_05_cat  ps_ind_06_bin  ps_ind_07_bin  ps_ind_08_bin  \\\n",
       "312892           0.0              0              1              0   \n",
       "12080            0.0              0              0              0   \n",
       "5159             0.0              0              1              0   \n",
       "5495             0.0              0              0              0   \n",
       "228665           0.0              0              1              0   \n",
       "\n",
       "        ps_ind_09_bin  ps_ind_10_bin  ps_ind_11_bin  ps_ind_12_bin  \\\n",
       "312892              0              0              0              0   \n",
       "12080               1              0              0              0   \n",
       "5159                0              0              0              0   \n",
       "5495                1              0              0              0   \n",
       "228665              0              0              0              0   \n",
       "\n",
       "        ps_ind_13_bin  ps_ind_14  ps_ind_15  ps_ind_16_bin  ps_ind_17_bin  \\\n",
       "312892              0          0          2              1              0   \n",
       "12080               0          0         12              1              0   \n",
       "5159                0          0         12              1              0   \n",
       "5495                0          0         13              1              0   \n",
       "228665              0          0          5              0              0   \n",
       "\n",
       "        ps_ind_18_bin  ps_reg_01  ps_reg_02 ps_car_01_cat ps_car_02_cat  \\\n",
       "312892              0        0.0        1.8           9.0             0   \n",
       "12080               0        0.6        0.7          10.0             0   \n",
       "5159                0        0.8        0.2           5.0             1   \n",
       "5495                0        0.3        0.4           6.0             1   \n",
       "228665              1        0.9        1.3          11.0             0   \n",
       "\n",
       "       ps_car_04_cat ps_car_06_cat ps_car_07_cat ps_car_08_cat ps_car_09_cat  \\\n",
       "312892             1            13           1.0             0           2.0   \n",
       "12080              0            10           1.0             1           0.0   \n",
       "5159               0             6           0.0             1           2.0   \n",
       "5495               0            11           1.0             1           0.0   \n",
       "228665             0             7           1.0             0           2.0   \n",
       "\n",
       "       ps_car_10_cat ps_car_11_cat  ps_car_11  ps_car_12  ps_car_13  \\\n",
       "312892             1           104        2.0   0.447214   1.225571   \n",
       "12080              1            28        3.0   0.374166   0.928898   \n",
       "5159               1            26        3.0   0.374166   0.635096   \n",
       "5495               1            16        3.0   0.374166   0.719317   \n",
       "228665             1           104        3.0   0.400000   1.082066   \n",
       "\n",
       "        ps_car_15  ps_calc_15_bin  ps_calc_16_bin  ps_calc_17_bin  \\\n",
       "312892   3.741657               0               0               1   \n",
       "12080    3.162278               0               1               0   \n",
       "5159     2.645751               0               0               1   \n",
       "5495     3.316625               0               0               1   \n",
       "228665   3.605551               0               1               1   \n",
       "\n",
       "        ps_calc_18_bin  ps_calc_19_bin  ps_calc_20_bin  \n",
       "312892               0               1               0  \n",
       "12080                0               0               0  \n",
       "5159                 1               0               1  \n",
       "5495                 1               1               0  \n",
       "228665               0               1               1  "
      ]
     },
     "execution_count": 65,
     "metadata": {},
     "output_type": "execute_result"
    }
   ],
   "source": [
    "claim1 = dfz.loc[dfz['target'] == 1]            # Keep minority datasize Constant\n",
    "claim0 = dfz.loc[dfz['target'] == 0][:20742]    # Downsample to match minority\n",
    "\n",
    "ndf = pd.concat([claim0, claim1])\n",
    "dfx = ndf.sample(frac=1, random_state=42)       # Shuffle df.\n",
    "\n",
    "dfx.head()                                      # dfx = Undersampled Dataset."
   ]
  },
  {
   "cell_type": "code",
   "execution_count": 66,
   "metadata": {
    "ExecuteTime": {
     "end_time": "2020-06-25T15:59:51.497807Z",
     "start_time": "2020-06-25T15:59:51.491789Z"
    }
   },
   "outputs": [
    {
     "data": {
      "text/plain": [
       "((20742, 40), (20742, 40))"
      ]
     },
     "execution_count": 66,
     "metadata": {},
     "output_type": "execute_result"
    }
   ],
   "source": [
    "claim0.shape, claim1.shape"
   ]
  },
  {
   "cell_type": "code",
   "execution_count": 67,
   "metadata": {
    "ExecuteTime": {
     "end_time": "2020-06-25T15:59:51.653383Z",
     "start_time": "2020-06-25T15:59:51.499767Z"
    }
   },
   "outputs": [
    {
     "data": {
      "image/png": "[encoded data removed]",
      "text/plain": [
       "<Figure size 432x288 with 1 Axes>"
      ]
     },
     "metadata": {
      "needs_background": "light"
     },
     "output_type": "display_data"
    }
   ],
   "source": [
    "plt.title('Claim (1) and Unclaimed (0) Target Variable Balance', fontsize=15)\n",
    "graph = dfx.target.value_counts().plot(kind='bar', cmap='Accent')\n",
    "for p in graph.patches:\n",
    "    height = p.get_height()\n",
    "    graph.text(p.get_x() + p.get_width() / 2, height + 0.2, height, ha=\"center\", fontsize=13)"
   ]
  },
  {
   "cell_type": "markdown",
   "metadata": {},
   "source": [
    " **Inferences:**\n",
    " - Keeping the Minority size constant, the data was **sliced** from its original strength down to the size of Minority target class in a **50-50** ratio.\n",
    " - The graph shows that both the 'Claimed' and 'Unclaimed' classes are now **well balanced**."
   ]
  },
  {
   "cell_type": "markdown",
   "metadata": {},
   "source": [
    "#### PREPARING TRAINING DATA FOR <font color='goldenrod'>UNDERSAMPLED</font> DATASET"
   ]
  },
  {
   "cell_type": "code",
   "execution_count": 68,
   "metadata": {
    "ExecuteTime": {
     "end_time": "2020-06-25T15:59:51.790988Z",
     "start_time": "2020-06-25T15:59:51.655352Z"
    }
   },
   "outputs": [
    {
     "data": {
      "text/plain": [
       "(41484, 187)"
      ]
     },
     "execution_count": 68,
     "metadata": {},
     "output_type": "execute_result"
    }
   ],
   "source": [
    "dfx = pd.get_dummies(dfx, drop_first=True)\n",
    "dfx.shape"
   ]
  },
  {
   "cell_type": "code",
   "execution_count": 69,
   "metadata": {
    "ExecuteTime": {
     "end_time": "2020-06-25T15:59:52.157009Z",
     "start_time": "2020-06-25T15:59:51.792983Z"
    }
   },
   "outputs": [
    {
     "data": {
      "text/plain": [
       "((33187, 186), (33187,), (8297, 186), (8297,))"
      ]
     },
     "execution_count": 69,
     "metadata": {},
     "output_type": "execute_result"
    }
   ],
   "source": [
    "U = dfx.drop('target', axis=1)\n",
    "v = dfx.target\n",
    "\n",
    "U_train, U_test, v_train, v_test = train_test_split(U, v, test_size=0.2, random_state=22)\n",
    "\n",
    "scaler = StandardScaler()\n",
    "U_train = scaler.fit_transform(U_train)\n",
    "U_test = scaler.fit_transform(U_test)\n",
    "\n",
    "U_train.shape, v_train.shape, U_test.shape, v_test.shape"
   ]
  },
  {
   "cell_type": "markdown",
   "metadata": {},
   "source": [
    "## MODELLING: 1 - The Simple <font color='yellowgreen'>LogReg Model</font> seems to have<font color='coral'> high accuracy.</font> Is that what we need at all? What is the problem with this model?"
   ]
  },
  {
   "cell_type": "code",
   "execution_count": 70,
   "metadata": {
    "ExecuteTime": {
     "end_time": "2020-06-25T15:59:52.162014Z",
     "start_time": "2020-06-25T15:59:52.159005Z"
    },
    "collapsed": true
   },
   "outputs": [],
   "source": [
    "lg = LogisticRegression()"
   ]
  },
  {
   "cell_type": "markdown",
   "metadata": {},
   "source": [
    "#### FITTING ON ORIGINAL (IMBALANCED) DATASET"
   ]
  },
  {
   "cell_type": "code",
   "execution_count": 71,
   "metadata": {
    "ExecuteTime": {
     "end_time": "2020-06-25T16:00:03.252349Z",
     "start_time": "2020-06-25T15:59:52.164002Z"
    }
   },
   "outputs": [
    {
     "name": "stdout",
     "output_type": "stream",
     "text": [
      "\n",
      "\t\t\u001b[1;4;30mClassification Report\u001b[0m\n"
     ]
    },
    {
     "data": {
      "text/html": [
       "<div>\n",
       "<style scoped>\n",
       "    .dataframe tbody tr th:only-of-type {\n",
       "        vertical-align: middle;\n",
       "    }\n",
       "\n",
       "    .dataframe tbody tr th {\n",
       "        vertical-align: top;\n",
       "    }\n",
       "\n",
       "    .dataframe thead th {\n",
       "        text-align: right;\n",
       "    }\n",
       "</style>\n",
       "<table border=\"1\" class=\"dataframe\">\n",
       "  <thead>\n",
       "    <tr style=\"text-align: right;\">\n",
       "      <th></th>\n",
       "      <th>precision</th>\n",
       "      <th>recall</th>\n",
       "      <th>f1-score</th>\n",
       "      <th>support</th>\n",
       "    </tr>\n",
       "  </thead>\n",
       "  <tbody>\n",
       "    <tr>\n",
       "      <td>0</td>\n",
       "      <td>0.965</td>\n",
       "      <td>1.000</td>\n",
       "      <td>0.982</td>\n",
       "      <td>56221.000</td>\n",
       "    </tr>\n",
       "    <tr>\n",
       "      <td>1</td>\n",
       "      <td>0.000</td>\n",
       "      <td>0.000</td>\n",
       "      <td>0.000</td>\n",
       "      <td>2065.000</td>\n",
       "    </tr>\n",
       "    <tr>\n",
       "      <td>accuracy</td>\n",
       "      <td>0.965</td>\n",
       "      <td>0.965</td>\n",
       "      <td>0.965</td>\n",
       "      <td>0.965</td>\n",
       "    </tr>\n",
       "    <tr>\n",
       "      <td>macro avg</td>\n",
       "      <td>0.482</td>\n",
       "      <td>0.500</td>\n",
       "      <td>0.491</td>\n",
       "      <td>58286.000</td>\n",
       "    </tr>\n",
       "    <tr>\n",
       "      <td>weighted avg</td>\n",
       "      <td>0.930</td>\n",
       "      <td>0.965</td>\n",
       "      <td>0.947</td>\n",
       "      <td>58286.000</td>\n",
       "    </tr>\n",
       "  </tbody>\n",
       "</table>\n",
       "</div>"
      ],
      "text/plain": [
       "              precision  recall  f1-score    support\n",
       "0                 0.965   1.000     0.982  56221.000\n",
       "1                 0.000   0.000     0.000   2065.000\n",
       "accuracy          0.965   0.965     0.965      0.965\n",
       "macro avg         0.482   0.500     0.491  58286.000\n",
       "weighted avg      0.930   0.965     0.947  58286.000"
      ]
     },
     "metadata": {},
     "output_type": "display_data"
    },
    {
     "name": "stdout",
     "output_type": "stream",
     "text": [
      "\n",
      "\u001b[1;30mAccuracy:\u001b[0m 96.0%\n",
      "\u001b[1;30mPrecision Score:\u001b[0m 0.0 | \u001b[1;30mRecall Score:\u001b[0m 0.0\n",
      "\u001b[1;31mF1 Score\u001b[0m: 0.0\t| \u001b[1;30mROC Score:\u001b[0m 0.5\n",
      "\n",
      "\u001b[1;30mConfusion Matrix:\u001b[0m \n",
      "[[56221     0]\n",
      " [ 2065     0]]\n"
     ]
    },
    {
     "data": {
      "image/png": "[encoded data removed]",
      "text/plain": [
       "<Figure size 1008x432 with 1 Axes>"
      ]
     },
     "metadata": {
      "needs_background": "light"
     },
     "output_type": "display_data"
    }
   ],
   "source": [
    "pr, re, f1, ac1 = run_classifier(X_train, y_train, X_test, y_test, lg)             # 12 seconds"
   ]
  },
  {
   "cell_type": "markdown",
   "metadata": {},
   "source": [
    " **Inferences:**\n",
    "- Logistic Regression model seems to be returning a very good accuracy score of 96.4%.\n",
    "- However it has a nil correctness in classification of the minority target class as shown by the 0.0 F1-Score.\n",
    "- This is due to the poor ability of the Classifier to classify the Minority target class."
   ]
  },
  {
   "cell_type": "markdown",
   "metadata": {},
   "source": [
    "## MODELLING: 2 - Why do you think is the F1 score <font color='red'>0.0?</font>"
   ]
  },
  {
   "cell_type": "markdown",
   "metadata": {},
   "source": [
    " **Inferences:**\n",
    "- The F1 score is 0.0 of the Claimed class because the Model is **heavily imbalanced**.\n",
    "- The model is not able to correctly classify datapoints comprising of the **Minority Class**.\n",
    "- The model without any evaluation needed has a 96.3% 'default accuracy' as they are truth values anyway. \n",
    "- Hence the model is having an **inherent 96.3%** probability to **incorrectly** classify datapoints. \n",
    "- F1 = 2 * (Precision * Recall) / (Precision + Recall)\n",
    "- The F1 score is the weighted average of the Precision and Recall. The model has 0.0 Recall, hence the F1 Score is 0."
   ]
  },
  {
   "cell_type": "markdown",
   "metadata": {},
   "source": [
    "## MODELLING: 3 - What is the <font color='tomato'>Precision</font> and <font color='goldenrod'>Recall</font> Score of the Model?"
   ]
  },
  {
   "cell_type": "code",
   "execution_count": 72,
   "metadata": {
    "ExecuteTime": {
     "end_time": "2020-06-25T16:00:03.259316Z",
     "start_time": "2020-06-25T16:00:03.254331Z"
    }
   },
   "outputs": [
    {
     "name": "stdout",
     "output_type": "stream",
     "text": [
      "Precision: 0.0\n",
      "Recall: 0.0\n"
     ]
    }
   ],
   "source": [
    "p = []\n",
    "r = []\n",
    "\n",
    "print(f'Precision: {pr}')\n",
    "print(f'Recall: {re}')\n",
    "\n",
    "p.append(pr)\n",
    "r.append(re)"
   ]
  },
  {
   "cell_type": "markdown",
   "metadata": {},
   "source": [
    "## MODELLING: 4 - What is the most <font color='goldenrod'>important</font> inference you can draw from the Model?"
   ]
  },
  {
   "cell_type": "markdown",
   "metadata": {},
   "source": [
    " **Inferences:**\n",
    "- The most important inference that can be drawn from this model is that despite \n",
    "the high training accuracy of the model, the actual model performance is terribly below par.\n",
    "- The model **cannot** be used for predictions and is undeployable because **Class Imbalance** problem has not been addressed."
   ]
  },
  {
   "cell_type": "markdown",
   "metadata": {},
   "source": [
    "## MODELLING: 5 - What is the Accuracy score and F1 score for the <font color='goldenrod'>improved</font> Logistic Regression Model?"
   ]
  },
  {
   "cell_type": "markdown",
   "metadata": {},
   "source": [
    "#### FITTING ON DOWNSAMPLED DATAFRAME"
   ]
  },
  {
   "cell_type": "code",
   "execution_count": 73,
   "metadata": {
    "ExecuteTime": {
     "end_time": "2020-06-25T16:00:03.734048Z",
     "start_time": "2020-06-25T16:00:03.261313Z"
    }
   },
   "outputs": [
    {
     "name": "stdout",
     "output_type": "stream",
     "text": [
      "\n",
      "\t\t\u001b[1;4;30mClassification Report\u001b[0m\n"
     ]
    },
    {
     "data": {
      "text/html": [
       "<div>\n",
       "<style scoped>\n",
       "    .dataframe tbody tr th:only-of-type {\n",
       "        vertical-align: middle;\n",
       "    }\n",
       "\n",
       "    .dataframe tbody tr th {\n",
       "        vertical-align: top;\n",
       "    }\n",
       "\n",
       "    .dataframe thead th {\n",
       "        text-align: right;\n",
       "    }\n",
       "</style>\n",
       "<table border=\"1\" class=\"dataframe\">\n",
       "  <thead>\n",
       "    <tr style=\"text-align: right;\">\n",
       "      <th></th>\n",
       "      <th>precision</th>\n",
       "      <th>recall</th>\n",
       "      <th>f1-score</th>\n",
       "      <th>support</th>\n",
       "    </tr>\n",
       "  </thead>\n",
       "  <tbody>\n",
       "    <tr>\n",
       "      <td>0</td>\n",
       "      <td>0.582</td>\n",
       "      <td>0.608</td>\n",
       "      <td>0.595</td>\n",
       "      <td>4160.000</td>\n",
       "    </tr>\n",
       "    <tr>\n",
       "      <td>1</td>\n",
       "      <td>0.587</td>\n",
       "      <td>0.561</td>\n",
       "      <td>0.574</td>\n",
       "      <td>4137.000</td>\n",
       "    </tr>\n",
       "    <tr>\n",
       "      <td>accuracy</td>\n",
       "      <td>0.585</td>\n",
       "      <td>0.585</td>\n",
       "      <td>0.585</td>\n",
       "      <td>0.585</td>\n",
       "    </tr>\n",
       "    <tr>\n",
       "      <td>macro avg</td>\n",
       "      <td>0.585</td>\n",
       "      <td>0.584</td>\n",
       "      <td>0.584</td>\n",
       "      <td>8297.000</td>\n",
       "    </tr>\n",
       "    <tr>\n",
       "      <td>weighted avg</td>\n",
       "      <td>0.585</td>\n",
       "      <td>0.585</td>\n",
       "      <td>0.584</td>\n",
       "      <td>8297.000</td>\n",
       "    </tr>\n",
       "  </tbody>\n",
       "</table>\n",
       "</div>"
      ],
      "text/plain": [
       "              precision  recall  f1-score   support\n",
       "0                 0.582   0.608     0.595  4160.000\n",
       "1                 0.587   0.561     0.574  4137.000\n",
       "accuracy          0.585   0.585     0.585     0.585\n",
       "macro avg         0.585   0.584     0.584  8297.000\n",
       "weighted avg      0.585   0.585     0.584  8297.000"
      ]
     },
     "metadata": {},
     "output_type": "display_data"
    },
    {
     "name": "stdout",
     "output_type": "stream",
     "text": [
      "\n",
      "\u001b[1;30mAccuracy:\u001b[0m 58.0%\n",
      "\u001b[1;30mPrecision Score:\u001b[0m 0.587 | \u001b[1;30mRecall Score:\u001b[0m 0.561\n",
      "\u001b[1;31mF1 Score\u001b[0m: 0.574\t| \u001b[1;30mROC Score:\u001b[0m 0.584\n",
      "\n",
      "\u001b[1;30mConfusion Matrix:\u001b[0m \n",
      "[[2531 1629]\n",
      " [1818 2319]]\n"
     ]
    },
    {
     "data": {
      "image/png": "[encoded data removed]",
      "text/plain": [
       "<Figure size 1008x432 with 1 Axes>"
      ]
     },
     "metadata": {
      "needs_background": "light"
     },
     "output_type": "display_data"
    }
   ],
   "source": [
    "lg1 = LogisticRegression(class_weight='balanced', C=0.003)\n",
    "pr2, re2, f2, ac2 = run_classifier(U_train, v_train, U_test, v_test, lg1)"
   ]
  },
  {
   "cell_type": "markdown",
   "metadata": {},
   "source": [
    " **Inferences:**\n",
    "- The above map shows the F1-score and the Accuracy Scores to be well above 0.0."
   ]
  },
  {
   "cell_type": "markdown",
   "metadata": {},
   "source": [
    "TESTING SAME MODEL ON DATASET **WITHOUT** ONE HOT ENCODING"
   ]
  },
  {
   "cell_type": "code",
   "execution_count": 74,
   "metadata": {
    "ExecuteTime": {
     "end_time": "2020-06-25T16:00:15.812743Z",
     "start_time": "2020-06-25T16:00:03.735045Z"
    },
    "scrolled": true
   },
   "outputs": [
    {
     "name": "stdout",
     "output_type": "stream",
     "text": [
      "\n",
      "\t\t\u001b[1;4;30mClassification Report\u001b[0m\n"
     ]
    },
    {
     "data": {
      "text/html": [
       "<div>\n",
       "<style scoped>\n",
       "    .dataframe tbody tr th:only-of-type {\n",
       "        vertical-align: middle;\n",
       "    }\n",
       "\n",
       "    .dataframe tbody tr th {\n",
       "        vertical-align: top;\n",
       "    }\n",
       "\n",
       "    .dataframe thead th {\n",
       "        text-align: right;\n",
       "    }\n",
       "</style>\n",
       "<table border=\"1\" class=\"dataframe\">\n",
       "  <thead>\n",
       "    <tr style=\"text-align: right;\">\n",
       "      <th></th>\n",
       "      <th>precision</th>\n",
       "      <th>recall</th>\n",
       "      <th>f1-score</th>\n",
       "      <th>support</th>\n",
       "    </tr>\n",
       "  </thead>\n",
       "  <tbody>\n",
       "    <tr>\n",
       "      <td>0</td>\n",
       "      <td>0.974</td>\n",
       "      <td>0.618</td>\n",
       "      <td>0.756</td>\n",
       "      <td>56221.000</td>\n",
       "    </tr>\n",
       "    <tr>\n",
       "      <td>1</td>\n",
       "      <td>0.050</td>\n",
       "      <td>0.551</td>\n",
       "      <td>0.092</td>\n",
       "      <td>2065.000</td>\n",
       "    </tr>\n",
       "    <tr>\n",
       "      <td>accuracy</td>\n",
       "      <td>0.615</td>\n",
       "      <td>0.615</td>\n",
       "      <td>0.615</td>\n",
       "      <td>0.615</td>\n",
       "    </tr>\n",
       "    <tr>\n",
       "      <td>macro avg</td>\n",
       "      <td>0.512</td>\n",
       "      <td>0.584</td>\n",
       "      <td>0.424</td>\n",
       "      <td>58286.000</td>\n",
       "    </tr>\n",
       "    <tr>\n",
       "      <td>weighted avg</td>\n",
       "      <td>0.941</td>\n",
       "      <td>0.615</td>\n",
       "      <td>0.732</td>\n",
       "      <td>58286.000</td>\n",
       "    </tr>\n",
       "  </tbody>\n",
       "</table>\n",
       "</div>"
      ],
      "text/plain": [
       "              precision  recall  f1-score    support\n",
       "0                 0.974   0.618     0.756  56221.000\n",
       "1                 0.050   0.551     0.092   2065.000\n",
       "accuracy          0.615   0.615     0.615      0.615\n",
       "macro avg         0.512   0.584     0.424  58286.000\n",
       "weighted avg      0.941   0.615     0.732  58286.000"
      ]
     },
     "metadata": {},
     "output_type": "display_data"
    },
    {
     "name": "stdout",
     "output_type": "stream",
     "text": [
      "\n",
      "\u001b[1;30mAccuracy:\u001b[0m 62.0%\n",
      "\u001b[1;30mPrecision Score:\u001b[0m 0.05 | \u001b[1;30mRecall Score:\u001b[0m 0.551\n",
      "\u001b[1;31mF1 Score\u001b[0m: 0.092\t| \u001b[1;30mROC Score:\u001b[0m 0.584\n",
      "\n",
      "\u001b[1;30mConfusion Matrix:\u001b[0m \n",
      "[[34717 21504]\n",
      " [  928  1137]]\n"
     ]
    },
    {
     "data": {
      "image/png": "[encoded data removed]",
      "text/plain": [
       "<Figure size 1008x432 with 1 Axes>"
      ]
     },
     "metadata": {
      "needs_background": "light"
     },
     "output_type": "display_data"
    }
   ],
   "source": [
    "M = df0.drop('target', axis=1)\n",
    "n = df0.target\n",
    "M_train, M_test, n_train, n_test = train_test_split(M, n, test_size=0.1, random_state=22)\n",
    "cre, pre, ree, fe = run_classifier(M_train, n_train, M_test, n_test, lg1)         # 13s"
   ]
  },
  {
   "cell_type": "markdown",
   "metadata": {},
   "source": [
    "## MODELLING: 6 - Why do you think F1 score has <font color='yellowgreen'>improved?</font>"
   ]
  },
  {
   "cell_type": "code",
   "execution_count": 75,
   "metadata": {
    "ExecuteTime": {
     "end_time": "2020-06-25T16:00:16.081052Z",
     "start_time": "2020-06-25T16:00:15.813741Z"
    }
   },
   "outputs": [
    {
     "data": {
      "text/plain": [
       "<matplotlib.axes._subplots.AxesSubplot at 0x15e0edcd7f0>"
      ]
     },
     "execution_count": 75,
     "metadata": {},
     "output_type": "execute_result"
    },
    {
     "data": {
      "image/png": "[encoded data removed]",
      "text/plain": [
       "<Figure size 720x432 with 1 Axes>"
      ]
     },
     "metadata": {
      "needs_background": "light"
     },
     "output_type": "display_data"
    }
   ],
   "source": [
    "p.append(pr2)\n",
    "r.append(re2)\n",
    "pr = pd.DataFrame(list(zip(p, r)), columns=['Precision', 'Recall'])\n",
    "pr.plot(kind='line', figsize=(10,6))"
   ]
  },
  {
   "cell_type": "markdown",
   "metadata": {},
   "source": [
    " **Inferences:**\n",
    "- The Machine learnt the differences and patterns after downsampling the dataset somewhat better than earlier. \n",
    "- While the accuracy dropped, the F1-score in the minority predicted class rose significantly.\n",
    "- The F1 score improves as Precision and Recall improve from the previous 0.0 to around 0.55."
   ]
  },
  {
   "cell_type": "markdown",
   "metadata": {},
   "source": [
    "## MODELLING: 7 - For model <font color='Orange'>LinearSVC</font> play with parameters - dual, max_iter and see if there is any improvement."
   ]
  },
  {
   "cell_type": "code",
   "execution_count": 76,
   "metadata": {
    "ExecuteTime": {
     "end_time": "2020-06-25T16:00:16.087009Z",
     "start_time": "2020-06-25T16:00:16.083021Z"
    },
    "collapsed": true
   },
   "outputs": [],
   "source": [
    "lc = LinearSVC()"
   ]
  },
  {
   "cell_type": "code",
   "execution_count": 77,
   "metadata": {
    "ExecuteTime": {
     "end_time": "2020-06-25T16:00:16.280853Z",
     "start_time": "2020-06-25T16:00:16.089004Z"
    },
    "collapsed": true
   },
   "outputs": [],
   "source": [
    "sc = StandardScaler()\n",
    "Ux_train = sc.fit_transform(U_train)\n",
    "Ux_test = sc.transform(U_test)"
   ]
  },
  {
   "cell_type": "code",
   "execution_count": 78,
   "metadata": {
    "ExecuteTime": {
     "end_time": "2020-06-25T16:00:39.855346Z",
     "start_time": "2020-06-25T16:00:16.282856Z"
    }
   },
   "outputs": [
    {
     "name": "stdout",
     "output_type": "stream",
     "text": [
      "\n",
      "\t\t\u001b[1;4;30mClassification Report\u001b[0m\n"
     ]
    },
    {
     "data": {
      "text/html": [
       "<div>\n",
       "<style scoped>\n",
       "    .dataframe tbody tr th:only-of-type {\n",
       "        vertical-align: middle;\n",
       "    }\n",
       "\n",
       "    .dataframe tbody tr th {\n",
       "        vertical-align: top;\n",
       "    }\n",
       "\n",
       "    .dataframe thead th {\n",
       "        text-align: right;\n",
       "    }\n",
       "</style>\n",
       "<table border=\"1\" class=\"dataframe\">\n",
       "  <thead>\n",
       "    <tr style=\"text-align: right;\">\n",
       "      <th></th>\n",
       "      <th>precision</th>\n",
       "      <th>recall</th>\n",
       "      <th>f1-score</th>\n",
       "      <th>support</th>\n",
       "    </tr>\n",
       "  </thead>\n",
       "  <tbody>\n",
       "    <tr>\n",
       "      <td>0</td>\n",
       "      <td>0.581</td>\n",
       "      <td>0.611</td>\n",
       "      <td>0.596</td>\n",
       "      <td>4160.000</td>\n",
       "    </tr>\n",
       "    <tr>\n",
       "      <td>1</td>\n",
       "      <td>0.587</td>\n",
       "      <td>0.558</td>\n",
       "      <td>0.572</td>\n",
       "      <td>4137.000</td>\n",
       "    </tr>\n",
       "    <tr>\n",
       "      <td>accuracy</td>\n",
       "      <td>0.584</td>\n",
       "      <td>0.584</td>\n",
       "      <td>0.584</td>\n",
       "      <td>0.584</td>\n",
       "    </tr>\n",
       "    <tr>\n",
       "      <td>macro avg</td>\n",
       "      <td>0.584</td>\n",
       "      <td>0.584</td>\n",
       "      <td>0.584</td>\n",
       "      <td>8297.000</td>\n",
       "    </tr>\n",
       "    <tr>\n",
       "      <td>weighted avg</td>\n",
       "      <td>0.584</td>\n",
       "      <td>0.584</td>\n",
       "      <td>0.584</td>\n",
       "      <td>8297.000</td>\n",
       "    </tr>\n",
       "  </tbody>\n",
       "</table>\n",
       "</div>"
      ],
      "text/plain": [
       "              precision  recall  f1-score   support\n",
       "0                 0.581   0.611     0.596  4160.000\n",
       "1                 0.587   0.558     0.572  4137.000\n",
       "accuracy          0.584   0.584     0.584     0.584\n",
       "macro avg         0.584   0.584     0.584  8297.000\n",
       "weighted avg      0.584   0.584     0.584  8297.000"
      ]
     },
     "metadata": {},
     "output_type": "display_data"
    },
    {
     "name": "stdout",
     "output_type": "stream",
     "text": [
      "\n",
      "\u001b[1;30mAccuracy:\u001b[0m 58.0%\n",
      "\u001b[1;30mPrecision Score:\u001b[0m 0.587 | \u001b[1;30mRecall Score:\u001b[0m 0.558\n",
      "\u001b[1;31mF1 Score\u001b[0m: 0.572\t| \u001b[1;30mROC Score:\u001b[0m 0.584\n",
      "\n",
      "\u001b[1;30mConfusion Matrix:\u001b[0m \n",
      "[[2540 1620]\n",
      " [1830 2307]]\n"
     ]
    },
    {
     "data": {
      "image/png": "[encoded data removed]",
      "text/plain": [
       "<Figure size 1008x432 with 1 Axes>"
      ]
     },
     "metadata": {
      "needs_background": "light"
     },
     "output_type": "display_data"
    }
   ],
   "source": [
    "pr3, re3, f3, ac3 = run_classifier(Ux_train, v_train, Ux_test, v_test, lc)              # 24 seconds"
   ]
  },
  {
   "cell_type": "code",
   "execution_count": 79,
   "metadata": {
    "ExecuteTime": {
     "end_time": "2020-06-25T16:01:01.603182Z",
     "start_time": "2020-06-25T16:00:39.857341Z"
    }
   },
   "outputs": [
    {
     "name": "stdout",
     "output_type": "stream",
     "text": [
      "\u001b[1;30mBest F1 Score:\u001b[0m 0.578\n",
      "\u001b[1;30mBest Max Iter:\u001b[0m 4\n"
     ]
    }
   ],
   "source": [
    "from sklearn.ensemble import RandomForestClassifier                       # 22 seconds\n",
    "tuners = [{'max_iter': [2, 3, 4, 5, 6, 7]}]\n",
    "clf = GridSearchCV(estimator=LinearSVC(dual=False),\n",
    "                   param_grid=tuners, n_jobs=-1, scoring='f1')\n",
    "\n",
    "clf.fit(U_train, v_train)\n",
    "\n",
    "print(f'\\033[1;30mBest F1 Score:\\033[0m {round(clf.best_score_, 3)}')\n",
    "print(f'\\033[1;30mBest Max Iter:\\033[0m', clf.best_estimator_.max_iter)"
   ]
  },
  {
   "cell_type": "code",
   "execution_count": 80,
   "metadata": {
    "ExecuteTime": {
     "end_time": "2020-06-25T16:01:21.251634Z",
     "start_time": "2020-06-25T16:01:01.605184Z"
    }
   },
   "outputs": [
    {
     "name": "stdout",
     "output_type": "stream",
     "text": [
      "\n",
      "\t\t\u001b[1;4;30mClassification Report\u001b[0m\n"
     ]
    },
    {
     "data": {
      "text/html": [
       "<div>\n",
       "<style scoped>\n",
       "    .dataframe tbody tr th:only-of-type {\n",
       "        vertical-align: middle;\n",
       "    }\n",
       "\n",
       "    .dataframe tbody tr th {\n",
       "        vertical-align: top;\n",
       "    }\n",
       "\n",
       "    .dataframe thead th {\n",
       "        text-align: right;\n",
       "    }\n",
       "</style>\n",
       "<table border=\"1\" class=\"dataframe\">\n",
       "  <thead>\n",
       "    <tr style=\"text-align: right;\">\n",
       "      <th></th>\n",
       "      <th>precision</th>\n",
       "      <th>recall</th>\n",
       "      <th>f1-score</th>\n",
       "      <th>support</th>\n",
       "    </tr>\n",
       "  </thead>\n",
       "  <tbody>\n",
       "    <tr>\n",
       "      <td>0</td>\n",
       "      <td>0.583</td>\n",
       "      <td>0.613</td>\n",
       "      <td>0.597</td>\n",
       "      <td>4160.000</td>\n",
       "    </tr>\n",
       "    <tr>\n",
       "      <td>1</td>\n",
       "      <td>0.589</td>\n",
       "      <td>0.559</td>\n",
       "      <td>0.574</td>\n",
       "      <td>4137.000</td>\n",
       "    </tr>\n",
       "    <tr>\n",
       "      <td>accuracy</td>\n",
       "      <td>0.586</td>\n",
       "      <td>0.586</td>\n",
       "      <td>0.586</td>\n",
       "      <td>0.586</td>\n",
       "    </tr>\n",
       "    <tr>\n",
       "      <td>macro avg</td>\n",
       "      <td>0.586</td>\n",
       "      <td>0.586</td>\n",
       "      <td>0.586</td>\n",
       "      <td>8297.000</td>\n",
       "    </tr>\n",
       "    <tr>\n",
       "      <td>weighted avg</td>\n",
       "      <td>0.586</td>\n",
       "      <td>0.586</td>\n",
       "      <td>0.586</td>\n",
       "      <td>8297.000</td>\n",
       "    </tr>\n",
       "  </tbody>\n",
       "</table>\n",
       "</div>"
      ],
      "text/plain": [
       "              precision  recall  f1-score   support\n",
       "0                 0.583   0.613     0.597  4160.000\n",
       "1                 0.589   0.559     0.574  4137.000\n",
       "accuracy          0.586   0.586     0.586     0.586\n",
       "macro avg         0.586   0.586     0.586  8297.000\n",
       "weighted avg      0.586   0.586     0.586  8297.000"
      ]
     },
     "metadata": {},
     "output_type": "display_data"
    },
    {
     "name": "stdout",
     "output_type": "stream",
     "text": [
      "\n",
      "\u001b[1;30mAccuracy:\u001b[0m 59.0%\n",
      "\u001b[1;30mPrecision Score:\u001b[0m 0.589 | \u001b[1;30mRecall Score:\u001b[0m 0.559\n",
      "\u001b[1;31mF1 Score\u001b[0m: 0.574\t| \u001b[1;30mROC Score:\u001b[0m 0.586\n",
      "\n",
      "\u001b[1;30mConfusion Matrix:\u001b[0m \n",
      "[[2550 1610]\n",
      " [1826 2311]]\n"
     ]
    },
    {
     "data": {
      "image/png": "[encoded data removed]",
      "text/plain": [
       "<Figure size 1008x432 with 1 Axes>"
      ]
     },
     "metadata": {
      "needs_background": "light"
     },
     "output_type": "display_data"
    }
   ],
   "source": [
    "pr31, re31, f31, ac31 = run_classifier(Ux_train, v_train, Ux_test, v_test, clf)           # 20 seconds"
   ]
  },
  {
   "cell_type": "markdown",
   "metadata": {},
   "source": [
    " **Inferences:**\n",
    "- A very marginal improvement in F1-Score is recorded by using LinearSVC"
   ]
  },
  {
   "cell_type": "markdown",
   "metadata": {},
   "source": [
    "## MODELLING: 8 - SVC with imbalance check and feature optimization and only <font color='yellowgreen'>100k records</font>. Is there any improvement in scores?"
   ]
  },
  {
   "cell_type": "markdown",
   "metadata": {},
   "source": [
    "#### Imbalance Check and 100k Records"
   ]
  },
  {
   "cell_type": "markdown",
   "metadata": {},
   "source": [
    "- A widely adopted technique for dealing with highly unbalanced datasets is called **Resampling**. \n",
    "- It consists of removing samples from the majority class (under-sampling) and/or adding more examples from the minority class (over-sampling)."
   ]
  },
  {
   "cell_type": "code",
   "execution_count": 81,
   "metadata": {
    "ExecuteTime": {
     "end_time": "2020-06-25T16:01:21.698473Z",
     "start_time": "2020-06-25T16:01:21.255622Z"
    }
   },
   "outputs": [
    {
     "data": {
      "text/plain": [
       "1    50000\n",
       "0    50000\n",
       "Name: target, dtype: int64"
      ]
     },
     "execution_count": 81,
     "metadata": {},
     "output_type": "execute_result"
    }
   ],
   "source": [
    "from sklearn.utils import resample\n",
    "# Separate majority and minority classes\n",
    "df_majority = df[df.target == 0]\n",
    "df_minority = df[df.target == 1]\n",
    "df_majority = df_majority[:50000] \n",
    "\n",
    "# Upsample minority class 'minu'\n",
    "minu = resample(df_minority, replace=True, n_samples=50000, random_state=42) \n",
    " \n",
    "# Combine majority class with upsampled minority class\n",
    "dfu = pd.concat([df_majority, minu]) \n",
    "dfu.target.value_counts()    # Balanced"
   ]
  },
  {
   "cell_type": "code",
   "execution_count": 82,
   "metadata": {
    "ExecuteTime": {
     "end_time": "2020-06-25T16:01:21.705472Z",
     "start_time": "2020-06-25T16:01:21.700489Z"
    }
   },
   "outputs": [
    {
     "data": {
      "text/plain": [
       "(100000, 187)"
      ]
     },
     "execution_count": 82,
     "metadata": {},
     "output_type": "execute_result"
    }
   ],
   "source": [
    "dfu.shape"
   ]
  },
  {
   "cell_type": "code",
   "execution_count": 83,
   "metadata": {
    "ExecuteTime": {
     "end_time": "2020-06-25T16:01:21.844087Z",
     "start_time": "2020-06-25T16:01:21.707452Z"
    },
    "collapsed": true
   },
   "outputs": [],
   "source": [
    "A = dfu.drop('target', axis=1)\n",
    "b = dfu.target\n",
    "A_train, A_test, b_train, b_test = train_test_split(A, b, test_size=0.2, random_state=42)"
   ]
  },
  {
   "cell_type": "code",
   "execution_count": 84,
   "metadata": {
    "ExecuteTime": {
     "end_time": "2020-06-25T16:01:21.850110Z",
     "start_time": "2020-06-25T16:01:21.846082Z"
    }
   },
   "outputs": [
    {
     "data": {
      "text/plain": [
       "((80000, 186), (20000, 186))"
      ]
     },
     "execution_count": 84,
     "metadata": {},
     "output_type": "execute_result"
    }
   ],
   "source": [
    "A_train.shape, A_test.shape"
   ]
  },
  {
   "cell_type": "code",
   "execution_count": 85,
   "metadata": {
    "ExecuteTime": {
     "end_time": "2020-06-25T16:01:45.909773Z",
     "start_time": "2020-06-25T16:01:21.853062Z"
    }
   },
   "outputs": [
    {
     "name": "stdout",
     "output_type": "stream",
     "text": [
      "\n",
      "\t\t\u001b[1;4;30mClassification Report\u001b[0m\n"
     ]
    },
    {
     "data": {
      "text/html": [
       "<div>\n",
       "<style scoped>\n",
       "    .dataframe tbody tr th:only-of-type {\n",
       "        vertical-align: middle;\n",
       "    }\n",
       "\n",
       "    .dataframe tbody tr th {\n",
       "        vertical-align: top;\n",
       "    }\n",
       "\n",
       "    .dataframe thead th {\n",
       "        text-align: right;\n",
       "    }\n",
       "</style>\n",
       "<table border=\"1\" class=\"dataframe\">\n",
       "  <thead>\n",
       "    <tr style=\"text-align: right;\">\n",
       "      <th></th>\n",
       "      <th>precision</th>\n",
       "      <th>recall</th>\n",
       "      <th>f1-score</th>\n",
       "      <th>support</th>\n",
       "    </tr>\n",
       "  </thead>\n",
       "  <tbody>\n",
       "    <tr>\n",
       "      <td>0</td>\n",
       "      <td>0.594</td>\n",
       "      <td>0.604</td>\n",
       "      <td>0.599</td>\n",
       "      <td>10035.000</td>\n",
       "    </tr>\n",
       "    <tr>\n",
       "      <td>1</td>\n",
       "      <td>0.594</td>\n",
       "      <td>0.583</td>\n",
       "      <td>0.589</td>\n",
       "      <td>9965.000</td>\n",
       "    </tr>\n",
       "    <tr>\n",
       "      <td>accuracy</td>\n",
       "      <td>0.594</td>\n",
       "      <td>0.594</td>\n",
       "      <td>0.594</td>\n",
       "      <td>0.594</td>\n",
       "    </tr>\n",
       "    <tr>\n",
       "      <td>macro avg</td>\n",
       "      <td>0.594</td>\n",
       "      <td>0.594</td>\n",
       "      <td>0.594</td>\n",
       "      <td>20000.000</td>\n",
       "    </tr>\n",
       "    <tr>\n",
       "      <td>weighted avg</td>\n",
       "      <td>0.594</td>\n",
       "      <td>0.594</td>\n",
       "      <td>0.594</td>\n",
       "      <td>20000.000</td>\n",
       "    </tr>\n",
       "  </tbody>\n",
       "</table>\n",
       "</div>"
      ],
      "text/plain": [
       "              precision  recall  f1-score    support\n",
       "0                 0.594   0.604     0.599  10035.000\n",
       "1                 0.594   0.583     0.589   9965.000\n",
       "accuracy          0.594   0.594     0.594      0.594\n",
       "macro avg         0.594   0.594     0.594  20000.000\n",
       "weighted avg      0.594   0.594     0.594  20000.000"
      ]
     },
     "metadata": {},
     "output_type": "display_data"
    },
    {
     "name": "stdout",
     "output_type": "stream",
     "text": [
      "\n",
      "\u001b[1;30mAccuracy:\u001b[0m 59.0%\n",
      "\u001b[1;30mPrecision Score:\u001b[0m 0.594 | \u001b[1;30mRecall Score:\u001b[0m 0.583\n",
      "\u001b[1;31mF1 Score\u001b[0m: 0.589\t| \u001b[1;30mROC Score:\u001b[0m 0.594\n",
      "\n",
      "\u001b[1;30mConfusion Matrix:\u001b[0m \n",
      "[[6062 3973]\n",
      " [4151 5814]]\n"
     ]
    },
    {
     "data": {
      "image/png": "[encoded data removed]",
      "text/plain": [
       "<Figure size 1008x432 with 1 Axes>"
      ]
     },
     "metadata": {
      "needs_background": "light"
     },
     "output_type": "display_data"
    }
   ],
   "source": [
    "pr4, re4, f4, ac4 = run_classifier(A_train, b_train, A_test, b_test, lc)           # 24 seconds"
   ]
  },
  {
   "cell_type": "markdown",
   "metadata": {},
   "source": [
    " **Inferences:**\n",
    "- An **overall improvement** has been noted in the metrics after balancing and upsampling to 100k records.\n",
    "- Stability has been observed in Precision and Recall as compared to earlier models.\n",
    "- Despite the advantage of balancing classes, these techniques also have their weaknesses. \n",
    "    - The simplest implementation of over-sampling is to duplicate random records from the minority class, which can cause overfitting. \n",
    "    - In under-sampling, the simplest technique involves removing random records from the majority class, which can cause loss of information."
   ]
  },
  {
   "cell_type": "markdown",
   "metadata": {},
   "source": [
    "## MODELLING: 9 - <font color='deepskyblue'>XGBoost</font> is one of the better classifiers but still F1-Score is very <font color='coral'>low</font>. What could be the reason?"
   ]
  },
  {
   "cell_type": "code",
   "execution_count": 86,
   "metadata": {
    "ExecuteTime": {
     "end_time": "2020-06-25T16:01:45.916728Z",
     "start_time": "2020-06-25T16:01:45.911740Z"
    },
    "collapsed": true
   },
   "outputs": [],
   "source": [
    "xg = XGBClassifier(scale_pos_weight=1)"
   ]
  },
  {
   "cell_type": "code",
   "execution_count": 87,
   "metadata": {
    "ExecuteTime": {
     "end_time": "2020-06-25T16:02:32.901121Z",
     "start_time": "2020-06-25T16:01:45.918722Z"
    }
   },
   "outputs": [
    {
     "name": "stdout",
     "output_type": "stream",
     "text": [
      "\n",
      "\t\t\u001b[1;4;30mClassification Report\u001b[0m\n"
     ]
    },
    {
     "data": {
      "text/html": [
       "<div>\n",
       "<style scoped>\n",
       "    .dataframe tbody tr th:only-of-type {\n",
       "        vertical-align: middle;\n",
       "    }\n",
       "\n",
       "    .dataframe tbody tr th {\n",
       "        vertical-align: top;\n",
       "    }\n",
       "\n",
       "    .dataframe thead th {\n",
       "        text-align: right;\n",
       "    }\n",
       "</style>\n",
       "<table border=\"1\" class=\"dataframe\">\n",
       "  <thead>\n",
       "    <tr style=\"text-align: right;\">\n",
       "      <th></th>\n",
       "      <th>precision</th>\n",
       "      <th>recall</th>\n",
       "      <th>f1-score</th>\n",
       "      <th>support</th>\n",
       "    </tr>\n",
       "  </thead>\n",
       "  <tbody>\n",
       "    <tr>\n",
       "      <td>0</td>\n",
       "      <td>0.600</td>\n",
       "      <td>0.621</td>\n",
       "      <td>0.610</td>\n",
       "      <td>10035.000</td>\n",
       "    </tr>\n",
       "    <tr>\n",
       "      <td>1</td>\n",
       "      <td>0.605</td>\n",
       "      <td>0.584</td>\n",
       "      <td>0.594</td>\n",
       "      <td>9965.000</td>\n",
       "    </tr>\n",
       "    <tr>\n",
       "      <td>accuracy</td>\n",
       "      <td>0.602</td>\n",
       "      <td>0.602</td>\n",
       "      <td>0.602</td>\n",
       "      <td>0.602</td>\n",
       "    </tr>\n",
       "    <tr>\n",
       "      <td>macro avg</td>\n",
       "      <td>0.603</td>\n",
       "      <td>0.602</td>\n",
       "      <td>0.602</td>\n",
       "      <td>20000.000</td>\n",
       "    </tr>\n",
       "    <tr>\n",
       "      <td>weighted avg</td>\n",
       "      <td>0.603</td>\n",
       "      <td>0.602</td>\n",
       "      <td>0.602</td>\n",
       "      <td>20000.000</td>\n",
       "    </tr>\n",
       "  </tbody>\n",
       "</table>\n",
       "</div>"
      ],
      "text/plain": [
       "              precision  recall  f1-score    support\n",
       "0                 0.600   0.621     0.610  10035.000\n",
       "1                 0.605   0.584     0.594   9965.000\n",
       "accuracy          0.602   0.602     0.602      0.602\n",
       "macro avg         0.603   0.602     0.602  20000.000\n",
       "weighted avg      0.603   0.602     0.602  20000.000"
      ]
     },
     "metadata": {},
     "output_type": "display_data"
    },
    {
     "name": "stdout",
     "output_type": "stream",
     "text": [
      "\n",
      "\u001b[1;30mAccuracy:\u001b[0m 60.0%\n",
      "\u001b[1;30mPrecision Score:\u001b[0m 0.605 | \u001b[1;30mRecall Score:\u001b[0m 0.584\n",
      "\u001b[1;31mF1 Score\u001b[0m: 0.594\t| \u001b[1;30mROC Score:\u001b[0m 0.602\n",
      "\n",
      "\u001b[1;30mConfusion Matrix:\u001b[0m \n",
      "[[6228 3807]\n",
      " [4144 5821]]\n"
     ]
    },
    {
     "data": {
      "image/png": "[encoded data removed]",
      "text/plain": [
       "<Figure size 1008x432 with 1 Axes>"
      ]
     },
     "metadata": {
      "needs_background": "light"
     },
     "output_type": "display_data"
    }
   ],
   "source": [
    "pr5, re5, f5, ac5 = run_classifier(A_train, b_train, A_test, b_test, xg)          # 50 seconds"
   ]
  },
  {
   "cell_type": "markdown",
   "metadata": {},
   "source": [
    " **Inferences:**\n",
    "- XGBoost still shows improvement over the previous SVC classifier. The ROC score also has evidently improved.\n",
    "- We observe the Accuracy and F1 steadiy increasing from 0.58 to 0.60 as we change to better models.\n",
    "- The F1-score still remains relatively low with scale_pos_weight set to higher than 1.\n",
    "    - The Recall became 100% and the accuracy took a nose dive at scale_pos_weight set to higher than 1.\n",
    "    - The Model was generating many false positives with a 100% Recall.\n",
    "    - Hence the F1 Score remained low.\n",
    "- Much better scores were achieved with scale_pos_weight set to 1."
   ]
  },
  {
   "cell_type": "markdown",
   "metadata": {},
   "source": [
    "## MODELLING: 10 - What is the <font color='violet'>increase</font> in the number of features after One Hot Encoding?"
   ]
  },
  {
   "cell_type": "markdown",
   "metadata": {},
   "source": [
    " **Inferences:**\n",
    "- One Hot Encoding increased the number of features from **53 to 187** as exhibited above in Kernel 62."
   ]
  },
  {
   "cell_type": "markdown",
   "metadata": {
    "ExecuteTime": {
     "end_time": "2020-05-20T11:19:17.890111Z",
     "start_time": "2020-05-20T11:19:17.881161Z"
    }
   },
   "source": [
    "## MODELLING: 11 - Is there any <font color='yellowgreen'>improvement</font> in the scores after encoding?"
   ]
  },
  {
   "cell_type": "markdown",
   "metadata": {
    "ExecuteTime": {
     "end_time": "2020-06-23T16:13:16.631972Z",
     "start_time": "2020-06-23T16:13:16.628955Z"
    }
   },
   "source": [
    "The Precision **increased** with One Hot Encoding as tested above. Below are the scores **without OHE** of training features.\n",
    "\n",
    "- Accuracy: 62.0%\n",
    "- Precision Score: 0.05 \n",
    "- Recall Score: 0.551\n",
    "- F1 Score: 0.092\n",
    "- ROC Score: 0.584\n",
    "\n",
    "The Scores below are **after running OHE** of the training dataset:\n",
    "\n",
    "- Accuracy: 58.0%\n",
    "- Precision Score: 0.587 \n",
    "- Recall Score: 0.561\n",
    "- F1 Score: 0.574\t\n",
    "- ROC Score: 0.584\n",
    "\n",
    "Clearly the scoring pattern is **more acceptable after One Hot Encoding** the features."
   ]
  },
  {
   "cell_type": "markdown",
   "metadata": {},
   "source": [
    "## MODELLING: 12 - If not missign a positive sample is the priority, which model is best so far? \n"
   ]
  },
  {
   "cell_type": "markdown",
   "metadata": {
    "ExecuteTime": {
     "end_time": "2020-06-23T16:44:21.081776Z",
     "start_time": "2020-06-23T16:44:21.063644Z"
    }
   },
   "source": [
    "- By this question, it could be inferred that the ML algorithm being sought as the best performer is the one that returns maximum True Positives.\n",
    "- Hence **if not missing a positive sample is the priority**, **MLPClassifier** is the best model evidently computed below.\n",
    "- See final summary table at the end of file."
   ]
  },
  {
   "cell_type": "markdown",
   "metadata": {
    "ExecuteTime": {
     "end_time": "2020-05-20T11:21:09.847681Z",
     "start_time": "2020-05-20T11:21:09.844685Z"
    }
   },
   "source": [
    "## MODELLING: 13 - If not marking negative sample as positive is top priority, which model is best so far?"
   ]
  },
  {
   "cell_type": "markdown",
   "metadata": {
    "ExecuteTime": {
     "end_time": "2020-06-24T12:27:21.993089Z",
     "start_time": "2020-06-24T12:27:21.986106Z"
    }
   },
   "source": [
    "- By this question, it could be inferred that the ML algorithm being sought as the best performer is the one that returns maximum False Positives.\n",
    "- Hence **if not marking negative sample as positive is the priority**, **XGBoost Classifier** is the best model as computed below.\n",
    "- See final summary table at the end of file."
   ]
  },
  {
   "cell_type": "markdown",
   "metadata": {},
   "source": [
    "## MODELLING: 14 - Do you think using <font color='yellowgreen'>AdaBoost</font> can give any significant <font color='violet'>improvement</font> over XGBoost?"
   ]
  },
  {
   "cell_type": "code",
   "execution_count": 88,
   "metadata": {
    "ExecuteTime": {
     "end_time": "2020-06-25T16:02:32.908130Z",
     "start_time": "2020-06-25T16:02:32.903107Z"
    },
    "collapsed": true
   },
   "outputs": [],
   "source": [
    "ad = AdaBoostClassifier(base_estimator=RandomForestClassifier())"
   ]
  },
  {
   "cell_type": "markdown",
   "metadata": {},
   "source": [
    "**AdaBoost** combines multiple 'weak classifiers' into a single 'strong classifier. In our case, we use the weak classifier of the random forest and 'adaptive boost' and observe the results."
   ]
  },
  {
   "cell_type": "code",
   "execution_count": 89,
   "metadata": {
    "ExecuteTime": {
     "end_time": "2020-06-25T16:03:03.368473Z",
     "start_time": "2020-06-25T16:02:32.910070Z"
    }
   },
   "outputs": [
    {
     "name": "stdout",
     "output_type": "stream",
     "text": [
      "\n",
      "\t\t\u001b[1;4;30mClassification Report\u001b[0m\n"
     ]
    },
    {
     "data": {
      "text/html": [
       "<div>\n",
       "<style scoped>\n",
       "    .dataframe tbody tr th:only-of-type {\n",
       "        vertical-align: middle;\n",
       "    }\n",
       "\n",
       "    .dataframe tbody tr th {\n",
       "        vertical-align: top;\n",
       "    }\n",
       "\n",
       "    .dataframe thead th {\n",
       "        text-align: right;\n",
       "    }\n",
       "</style>\n",
       "<table border=\"1\" class=\"dataframe\">\n",
       "  <thead>\n",
       "    <tr style=\"text-align: right;\">\n",
       "      <th></th>\n",
       "      <th>precision</th>\n",
       "      <th>recall</th>\n",
       "      <th>f1-score</th>\n",
       "      <th>support</th>\n",
       "    </tr>\n",
       "  </thead>\n",
       "  <tbody>\n",
       "    <tr>\n",
       "      <td>0</td>\n",
       "      <td>0.882</td>\n",
       "      <td>0.914</td>\n",
       "      <td>0.897</td>\n",
       "      <td>10035.000</td>\n",
       "    </tr>\n",
       "    <tr>\n",
       "      <td>1</td>\n",
       "      <td>0.910</td>\n",
       "      <td>0.876</td>\n",
       "      <td>0.893</td>\n",
       "      <td>9965.000</td>\n",
       "    </tr>\n",
       "    <tr>\n",
       "      <td>accuracy</td>\n",
       "      <td>0.895</td>\n",
       "      <td>0.895</td>\n",
       "      <td>0.895</td>\n",
       "      <td>0.895</td>\n",
       "    </tr>\n",
       "    <tr>\n",
       "      <td>macro avg</td>\n",
       "      <td>0.896</td>\n",
       "      <td>0.895</td>\n",
       "      <td>0.895</td>\n",
       "      <td>20000.000</td>\n",
       "    </tr>\n",
       "    <tr>\n",
       "      <td>weighted avg</td>\n",
       "      <td>0.896</td>\n",
       "      <td>0.895</td>\n",
       "      <td>0.895</td>\n",
       "      <td>20000.000</td>\n",
       "    </tr>\n",
       "  </tbody>\n",
       "</table>\n",
       "</div>"
      ],
      "text/plain": [
       "              precision  recall  f1-score    support\n",
       "0                 0.882   0.914     0.897  10035.000\n",
       "1                 0.910   0.876     0.893   9965.000\n",
       "accuracy          0.895   0.895     0.895      0.895\n",
       "macro avg         0.896   0.895     0.895  20000.000\n",
       "weighted avg      0.896   0.895     0.895  20000.000"
      ]
     },
     "metadata": {},
     "output_type": "display_data"
    },
    {
     "name": "stdout",
     "output_type": "stream",
     "text": [
      "\n",
      "\u001b[1;30mAccuracy:\u001b[0m 90.0%\n",
      "\u001b[1;30mPrecision Score:\u001b[0m 0.91 | \u001b[1;30mRecall Score:\u001b[0m 0.876\n",
      "\u001b[1;31mF1 Score\u001b[0m: 0.893\t| \u001b[1;30mROC Score:\u001b[0m 0.895\n",
      "\n",
      "\u001b[1;30mConfusion Matrix:\u001b[0m \n",
      "[[9171  864]\n",
      " [1232 8733]]\n"
     ]
    },
    {
     "data": {
      "image/png": "[encoded data removed]",
      "text/plain": [
       "<Figure size 1008x432 with 1 Axes>"
      ]
     },
     "metadata": {
      "needs_background": "light"
     },
     "output_type": "display_data"
    }
   ],
   "source": [
    "pr6, re6, f6, ac6 = run_classifier(A_train, b_train, A_test, b_test, ad)          # 31 seconds"
   ]
  },
  {
   "cell_type": "markdown",
   "metadata": {},
   "source": [
    " **Inferences:**\n",
    "- **Yes**, AdaBoost with base estimator of RandomForest made the model performance **improve drastically** over all the previous Models. "
   ]
  },
  {
   "cell_type": "markdown",
   "metadata": {},
   "source": [
    "## MODELLING: 15 - <font color='dodgerblue'>MLPClassifier</font> is the <font color='indianred'>Neural Network</font> we are trying. But how to choose the right number of layers and size?"
   ]
  },
  {
   "cell_type": "markdown",
   "metadata": {},
   "source": [
    "#### SMOTE ANALYSIS"
   ]
  },
  {
   "cell_type": "code",
   "execution_count": 90,
   "metadata": {
    "ExecuteTime": {
     "end_time": "2020-06-25T16:03:42.801432Z",
     "start_time": "2020-06-25T16:03:03.370466Z"
    }
   },
   "outputs": [
    {
     "name": "stderr",
     "output_type": "stream",
     "text": [
      "Using TensorFlow backend.\n"
     ]
    },
    {
     "data": {
      "text/plain": [
       "<matplotlib.axes._subplots.AxesSubplot at 0x15e2cbde0b8>"
      ]
     },
     "execution_count": 90,
     "metadata": {},
     "output_type": "execute_result"
    },
    {
     "data": {
      "image/png": "[encoded data removed]",
      "text/plain": [
       "<Figure size 432x288 with 1 Axes>"
      ]
     },
     "metadata": {
      "needs_background": "light"
     },
     "output_type": "display_data"
    }
   ],
   "source": [
    "from imblearn.over_sampling import SMOTE\n",
    "from sklearn.model_selection import train_test_split\n",
    "from sklearn.svm import LinearSVC\n",
    "from sklearn.model_selection import train_test_split\n",
    "\n",
    "sm = SMOTE(random_state=42)\n",
    "X = df.drop('target', axis=1)\n",
    "y = df.target\n",
    "\n",
    "X_train, X_test, y_train, y_test = train_test_split(X, y, test_size=0.2, random_state=42)\n",
    "Xtrain, ytrain = sm.fit_sample(X_train, y_train.ravel())\n",
    "sns.countplot(ytrain)                                                     # 40s"
   ]
  },
  {
   "cell_type": "code",
   "execution_count": 91,
   "metadata": {
    "ExecuteTime": {
     "end_time": "2020-06-25T16:03:42.809365Z",
     "start_time": "2020-06-25T16:03:42.803396Z"
    }
   },
   "outputs": [
    {
     "data": {
      "text/plain": [
       "((899456, 186), (899456,))"
      ]
     },
     "execution_count": 91,
     "metadata": {},
     "output_type": "execute_result"
    }
   ],
   "source": [
    "Xtrain.shape, ytrain.shape"
   ]
  },
  {
   "cell_type": "code",
   "execution_count": 92,
   "metadata": {
    "ExecuteTime": {
     "end_time": "2020-06-25T16:03:42.818341Z",
     "start_time": "2020-06-25T16:03:42.811361Z"
    }
   },
   "outputs": [
    {
     "data": {
      "text/plain": [
       "((899456, 186), (899456, 1))"
      ]
     },
     "execution_count": 92,
     "metadata": {},
     "output_type": "execute_result"
    }
   ],
   "source": [
    "lc = LinearSVC()\n",
    "\n",
    "Xtrain = pd.DataFrame(Xtrain)\n",
    "ytrain = pd.DataFrame(ytrain)\n",
    "\n",
    "Xtrain.shape, ytrain.shape"
   ]
  },
  {
   "cell_type": "code",
   "execution_count": 93,
   "metadata": {
    "ExecuteTime": {
     "end_time": "2020-06-25T16:03:43.628216Z",
     "start_time": "2020-06-25T16:03:42.821345Z"
    }
   },
   "outputs": [
    {
     "data": {
      "text/plain": [
       "<matplotlib.axes._subplots.AxesSubplot at 0x15e2cbf5be0>"
      ]
     },
     "execution_count": 93,
     "metadata": {},
     "output_type": "execute_result"
    },
    {
     "data": {
      "image/png": "[encoded data removed]",
      "text/plain": [
       "<Figure size 432x288 with 1 Axes>"
      ]
     },
     "metadata": {
      "needs_background": "light"
     },
     "output_type": "display_data"
    }
   ],
   "source": [
    "df1 = pd.concat([Xtrain, ytrain], axis=1)\n",
    "df1.rename(columns={0: 'target'}, inplace=True)\n",
    "sns.countplot(df1['target'])"
   ]
  },
  {
   "cell_type": "code",
   "execution_count": 94,
   "metadata": {
    "ExecuteTime": {
     "end_time": "2020-06-25T16:03:45.000542Z",
     "start_time": "2020-06-25T16:03:43.629174Z"
    },
    "collapsed": true
   },
   "outputs": [],
   "source": [
    "X = df1.drop('target', axis=1)\n",
    "y = df1.target\n",
    "\n",
    "smX_train, smX_test, smy_train, smy_test = train_test_split(X, y, \n",
    "                                                            test_size=0.2, \n",
    "                                                            random_state=42)"
   ]
  },
  {
   "cell_type": "code",
   "execution_count": 95,
   "metadata": {
    "ExecuteTime": {
     "end_time": "2020-06-25T16:03:45.006490Z",
     "start_time": "2020-06-25T16:03:45.002502Z"
    },
    "collapsed": true
   },
   "outputs": [],
   "source": [
    "ml = MLPClassifier(hidden_layer_sizes=(64, 32), max_iter=30,\n",
    "                     solver='adam', verbose=True  )"
   ]
  },
  {
   "cell_type": "code",
   "execution_count": 96,
   "metadata": {
    "ExecuteTime": {
     "end_time": "2020-06-25T16:09:18.933137Z",
     "start_time": "2020-06-25T16:03:45.009489Z"
    },
    "scrolled": false
   },
   "outputs": [
    {
     "name": "stdout",
     "output_type": "stream",
     "text": [
      "Iteration 1, loss = 0.20534474\n",
      "Iteration 2, loss = 0.16872913\n",
      "Iteration 3, loss = 0.16125886\n",
      "Iteration 4, loss = 0.15670228\n",
      "Iteration 5, loss = 0.15344496\n",
      "Iteration 6, loss = 0.15064266\n",
      "Iteration 7, loss = 0.14829494\n",
      "Iteration 8, loss = 0.14602811\n",
      "Iteration 9, loss = 0.14403778\n",
      "Iteration 10, loss = 0.14261169\n",
      "Iteration 11, loss = 0.14102078\n",
      "Iteration 12, loss = 0.13940922\n",
      "Iteration 13, loss = 0.13828311\n",
      "Iteration 14, loss = 0.13697948\n",
      "Iteration 15, loss = 0.13565562\n",
      "Iteration 16, loss = 0.13435107\n",
      "Iteration 17, loss = 0.13346044\n",
      "Iteration 18, loss = 0.13263795\n",
      "Iteration 19, loss = 0.13183236\n",
      "Iteration 20, loss = 0.13099686\n",
      "Iteration 21, loss = 0.12994434\n",
      "Iteration 22, loss = 0.12926932\n",
      "Iteration 23, loss = 0.12865211\n",
      "Iteration 24, loss = 0.12797685\n",
      "Iteration 25, loss = 0.12723780\n",
      "Iteration 26, loss = 0.12690134\n",
      "Iteration 27, loss = 0.12625064\n",
      "Iteration 28, loss = 0.12575935\n",
      "Iteration 29, loss = 0.12557859\n",
      "Iteration 30, loss = 0.12519020\n",
      "\n",
      "\t\t\u001b[1;4;30mClassification Report\u001b[0m\n"
     ]
    },
    {
     "data": {
      "text/html": [
       "<div>\n",
       "<style scoped>\n",
       "    .dataframe tbody tr th:only-of-type {\n",
       "        vertical-align: middle;\n",
       "    }\n",
       "\n",
       "    .dataframe tbody tr th {\n",
       "        vertical-align: top;\n",
       "    }\n",
       "\n",
       "    .dataframe thead th {\n",
       "        text-align: right;\n",
       "    }\n",
       "</style>\n",
       "<table border=\"1\" class=\"dataframe\">\n",
       "  <thead>\n",
       "    <tr style=\"text-align: right;\">\n",
       "      <th></th>\n",
       "      <th>precision</th>\n",
       "      <th>recall</th>\n",
       "      <th>f1-score</th>\n",
       "      <th>support</th>\n",
       "    </tr>\n",
       "  </thead>\n",
       "  <tbody>\n",
       "    <tr>\n",
       "      <td>0</td>\n",
       "      <td>0.932</td>\n",
       "      <td>0.982</td>\n",
       "      <td>0.956</td>\n",
       "      <td>89990.000</td>\n",
       "    </tr>\n",
       "    <tr>\n",
       "      <td>1</td>\n",
       "      <td>0.981</td>\n",
       "      <td>0.928</td>\n",
       "      <td>0.954</td>\n",
       "      <td>89902.000</td>\n",
       "    </tr>\n",
       "    <tr>\n",
       "      <td>accuracy</td>\n",
       "      <td>0.955</td>\n",
       "      <td>0.955</td>\n",
       "      <td>0.955</td>\n",
       "      <td>0.955</td>\n",
       "    </tr>\n",
       "    <tr>\n",
       "      <td>macro avg</td>\n",
       "      <td>0.956</td>\n",
       "      <td>0.955</td>\n",
       "      <td>0.955</td>\n",
       "      <td>179892.000</td>\n",
       "    </tr>\n",
       "    <tr>\n",
       "      <td>weighted avg</td>\n",
       "      <td>0.956</td>\n",
       "      <td>0.955</td>\n",
       "      <td>0.955</td>\n",
       "      <td>179892.000</td>\n",
       "    </tr>\n",
       "  </tbody>\n",
       "</table>\n",
       "</div>"
      ],
      "text/plain": [
       "              precision  recall  f1-score     support\n",
       "0                 0.932   0.982     0.956   89990.000\n",
       "1                 0.981   0.928     0.954   89902.000\n",
       "accuracy          0.955   0.955     0.955       0.955\n",
       "macro avg         0.956   0.955     0.955  179892.000\n",
       "weighted avg      0.956   0.955     0.955  179892.000"
      ]
     },
     "metadata": {},
     "output_type": "display_data"
    },
    {
     "name": "stdout",
     "output_type": "stream",
     "text": [
      "\n",
      "\u001b[1;30mAccuracy:\u001b[0m 96.0%\n",
      "\u001b[1;30mPrecision Score:\u001b[0m 0.981 | \u001b[1;30mRecall Score:\u001b[0m 0.928\n",
      "\u001b[1;31mF1 Score\u001b[0m: 0.954\t| \u001b[1;30mROC Score:\u001b[0m 0.955\n",
      "\n",
      "\u001b[1;30mConfusion Matrix:\u001b[0m \n",
      "[[88365  1625]\n",
      " [ 6440 83462]]\n"
     ]
    },
    {
     "data": {
      "image/png": "[encoded data removed]",
      "text/plain": [
       "<Figure size 1008x432 with 1 Axes>"
      ]
     },
     "metadata": {
      "needs_background": "light"
     },
     "output_type": "display_data"
    }
   ],
   "source": [
    "pr7, re7, f7, ac7 = run_classifier(smX_train, smy_train, smX_test, smy_test, ml)     #8m 50s"
   ]
  },
  {
   "cell_type": "markdown",
   "metadata": {},
   "source": [
    "## MODELLING: 16 - At what <font color='royalblue'>layer size</font> do we get the best F1-Score?"
   ]
  },
  {
   "cell_type": "markdown",
   "metadata": {},
   "source": [
    " **Inferences:**\n",
    "- The model was tested with hidden_layer_sizes=(32,32,32), (100, 100), (64,128,64), (512, 256, 128), (512, 256), (512) and (200) neuron units.\n",
    "- The best F1 score was achieved at Hidden Layers with **200 Neurons**. \n",
    "- Testing with more than 200 neurons in deep network took long to train and scores were similar, **hence 200 was chosen**.\n",
    "- Increasing number of hidden layers proved useful when running MLPCLassifier on Resampled data. \n",
    "    - However, scoring became redundant after SMOTE and a requirement of deep network was not needed as the scores were similar each time.\n",
    "- Outcome of Multilayer Perceptron along with operating SMOTE on imbalanced dataset gave an outstanding performance as compared to all the previous methods used."
   ]
  },
  {
   "cell_type": "markdown",
   "metadata": {},
   "source": [
    "# <font color='indianred'>FINAL SUMMARY</font> TABLE "
   ]
  },
  {
   "cell_type": "code",
   "execution_count": 97,
   "metadata": {
    "ExecuteTime": {
     "end_time": "2020-06-25T16:09:19.300178Z",
     "start_time": "2020-06-25T16:09:18.935119Z"
    }
   },
   "outputs": [
    {
     "data": {
      "text/html": [
       "<style  type=\"text/css\" >\n",
       "    #T_397a06e8_b6fe_11ea_bb1c_38dead2b1ceerow0_col0 {\n",
       "            background-color:  lightgreen;\n",
       "        }    #T_397a06e8_b6fe_11ea_bb1c_38dead2b1ceerow0_col1 {\n",
       "            background-color:  default;\n",
       "        }    #T_397a06e8_b6fe_11ea_bb1c_38dead2b1ceerow0_col2 {\n",
       "            background-color:  default;\n",
       "        }    #T_397a06e8_b6fe_11ea_bb1c_38dead2b1ceerow0_col3 {\n",
       "            background-color:  default;\n",
       "        }    #T_397a06e8_b6fe_11ea_bb1c_38dead2b1ceerow0_col4 {\n",
       "            background-color:  default;\n",
       "        }    #T_397a06e8_b6fe_11ea_bb1c_38dead2b1ceerow0_col5 {\n",
       "            background-color:  mistyrose;\n",
       "        }    #T_397a06e8_b6fe_11ea_bb1c_38dead2b1ceerow0_col6 {\n",
       "            background-color:  aquamarine;\n",
       "        }    #T_397a06e8_b6fe_11ea_bb1c_38dead2b1ceerow0_col7 {\n",
       "            background-color:  lightgreen;\n",
       "        }    #T_397a06e8_b6fe_11ea_bb1c_38dead2b1ceerow1_col0 {\n",
       "            background-color:  default;\n",
       "        }    #T_397a06e8_b6fe_11ea_bb1c_38dead2b1ceerow1_col1 {\n",
       "            background-color:  default;\n",
       "        }    #T_397a06e8_b6fe_11ea_bb1c_38dead2b1ceerow1_col2 {\n",
       "            background-color:  default;\n",
       "        }    #T_397a06e8_b6fe_11ea_bb1c_38dead2b1ceerow1_col3 {\n",
       "            background-color:  default;\n",
       "        }    #T_397a06e8_b6fe_11ea_bb1c_38dead2b1ceerow1_col4 {\n",
       "            background-color:  default;\n",
       "        }    #T_397a06e8_b6fe_11ea_bb1c_38dead2b1ceerow1_col5 {\n",
       "            background-color:  default;\n",
       "        }    #T_397a06e8_b6fe_11ea_bb1c_38dead2b1ceerow1_col6 {\n",
       "            background-color:  papayawhip;\n",
       "        }    #T_397a06e8_b6fe_11ea_bb1c_38dead2b1ceerow1_col7 {\n",
       "            background-color:  lightgreen;\n",
       "        }    #T_397a06e8_b6fe_11ea_bb1c_38dead2b1ceerow2_col0 {\n",
       "            background-color:  default;\n",
       "        }    #T_397a06e8_b6fe_11ea_bb1c_38dead2b1ceerow2_col1 {\n",
       "            background-color:  default;\n",
       "        }    #T_397a06e8_b6fe_11ea_bb1c_38dead2b1ceerow2_col2 {\n",
       "            background-color:  default;\n",
       "        }    #T_397a06e8_b6fe_11ea_bb1c_38dead2b1ceerow2_col3 {\n",
       "            background-color:  default;\n",
       "        }    #T_397a06e8_b6fe_11ea_bb1c_38dead2b1ceerow2_col4 {\n",
       "            background-color:  default;\n",
       "        }    #T_397a06e8_b6fe_11ea_bb1c_38dead2b1ceerow2_col5 {\n",
       "            background-color:  mistyrose;\n",
       "        }    #T_397a06e8_b6fe_11ea_bb1c_38dead2b1ceerow2_col6 {\n",
       "            background-color:  aquamarine;\n",
       "        }    #T_397a06e8_b6fe_11ea_bb1c_38dead2b1ceerow2_col7 {\n",
       "            background-color:  lightgreen;\n",
       "        }    #T_397a06e8_b6fe_11ea_bb1c_38dead2b1ceerow3_col0 {\n",
       "            background-color:  default;\n",
       "        }    #T_397a06e8_b6fe_11ea_bb1c_38dead2b1ceerow3_col1 {\n",
       "            background-color:  default;\n",
       "        }    #T_397a06e8_b6fe_11ea_bb1c_38dead2b1ceerow3_col2 {\n",
       "            background-color:  default;\n",
       "        }    #T_397a06e8_b6fe_11ea_bb1c_38dead2b1ceerow3_col3 {\n",
       "            background-color:  default;\n",
       "        }    #T_397a06e8_b6fe_11ea_bb1c_38dead2b1ceerow3_col4 {\n",
       "            background-color:  default;\n",
       "        }    #T_397a06e8_b6fe_11ea_bb1c_38dead2b1ceerow3_col5 {\n",
       "            background-color:  default;\n",
       "        }    #T_397a06e8_b6fe_11ea_bb1c_38dead2b1ceerow3_col6 {\n",
       "            background-color:  papayawhip;\n",
       "        }    #T_397a06e8_b6fe_11ea_bb1c_38dead2b1ceerow3_col7 {\n",
       "            background-color:  aquamarine;\n",
       "        }</style><table id=\"T_397a06e8_b6fe_11ea_bb1c_38dead2b1cee\" ><thead>    <tr>        <th class=\"blank level0\" ></th>        <th class=\"col_heading level0 col0\" >Imbalanced LogReg</th>        <th class=\"col_heading level0 col1\" >Improved LogReg</th>        <th class=\"col_heading level0 col2\" >LinearSVC</th>        <th class=\"col_heading level0 col3\" >GridSearchSVC</th>        <th class=\"col_heading level0 col4\" >LinearSVC100k</th>        <th class=\"col_heading level0 col5\" >XGBoost</th>        <th class=\"col_heading level0 col6\" >AdaBoosting (RR)</th>        <th class=\"col_heading level0 col7\" >MLP Neural Network</th>    </tr></thead><tbody>\n",
       "                <tr>\n",
       "                        <th id=\"T_397a06e8_b6fe_11ea_bb1c_38dead2b1ceelevel0_row0\" class=\"row_heading level0 row0\" >Accuracy</th>\n",
       "                        <td id=\"T_397a06e8_b6fe_11ea_bb1c_38dead2b1ceerow0_col0\" class=\"data row0 col0\" >0.96</td>\n",
       "                        <td id=\"T_397a06e8_b6fe_11ea_bb1c_38dead2b1ceerow0_col1\" class=\"data row0 col1\" >0.58</td>\n",
       "                        <td id=\"T_397a06e8_b6fe_11ea_bb1c_38dead2b1ceerow0_col2\" class=\"data row0 col2\" >0.58</td>\n",
       "                        <td id=\"T_397a06e8_b6fe_11ea_bb1c_38dead2b1ceerow0_col3\" class=\"data row0 col3\" >0.59</td>\n",
       "                        <td id=\"T_397a06e8_b6fe_11ea_bb1c_38dead2b1ceerow0_col4\" class=\"data row0 col4\" >0.59</td>\n",
       "                        <td id=\"T_397a06e8_b6fe_11ea_bb1c_38dead2b1ceerow0_col5\" class=\"data row0 col5\" >0.6</td>\n",
       "                        <td id=\"T_397a06e8_b6fe_11ea_bb1c_38dead2b1ceerow0_col6\" class=\"data row0 col6\" >0.9</td>\n",
       "                        <td id=\"T_397a06e8_b6fe_11ea_bb1c_38dead2b1ceerow0_col7\" class=\"data row0 col7\" >0.96</td>\n",
       "            </tr>\n",
       "            <tr>\n",
       "                        <th id=\"T_397a06e8_b6fe_11ea_bb1c_38dead2b1ceelevel0_row1\" class=\"row_heading level0 row1\" >F1Score</th>\n",
       "                        <td id=\"T_397a06e8_b6fe_11ea_bb1c_38dead2b1ceerow1_col0\" class=\"data row1 col0\" >0</td>\n",
       "                        <td id=\"T_397a06e8_b6fe_11ea_bb1c_38dead2b1ceerow1_col1\" class=\"data row1 col1\" >0.574</td>\n",
       "                        <td id=\"T_397a06e8_b6fe_11ea_bb1c_38dead2b1ceerow1_col2\" class=\"data row1 col2\" >0.572</td>\n",
       "                        <td id=\"T_397a06e8_b6fe_11ea_bb1c_38dead2b1ceerow1_col3\" class=\"data row1 col3\" >0.574</td>\n",
       "                        <td id=\"T_397a06e8_b6fe_11ea_bb1c_38dead2b1ceerow1_col4\" class=\"data row1 col4\" >0.589</td>\n",
       "                        <td id=\"T_397a06e8_b6fe_11ea_bb1c_38dead2b1ceerow1_col5\" class=\"data row1 col5\" >0.594</td>\n",
       "                        <td id=\"T_397a06e8_b6fe_11ea_bb1c_38dead2b1ceerow1_col6\" class=\"data row1 col6\" >0.893</td>\n",
       "                        <td id=\"T_397a06e8_b6fe_11ea_bb1c_38dead2b1ceerow1_col7\" class=\"data row1 col7\" >0.954</td>\n",
       "            </tr>\n",
       "            <tr>\n",
       "                        <th id=\"T_397a06e8_b6fe_11ea_bb1c_38dead2b1ceelevel0_row2\" class=\"row_heading level0 row2\" >Precision</th>\n",
       "                        <td id=\"T_397a06e8_b6fe_11ea_bb1c_38dead2b1ceerow2_col0\" class=\"data row2 col0\" >0</td>\n",
       "                        <td id=\"T_397a06e8_b6fe_11ea_bb1c_38dead2b1ceerow2_col1\" class=\"data row2 col1\" >0.587</td>\n",
       "                        <td id=\"T_397a06e8_b6fe_11ea_bb1c_38dead2b1ceerow2_col2\" class=\"data row2 col2\" >0.587</td>\n",
       "                        <td id=\"T_397a06e8_b6fe_11ea_bb1c_38dead2b1ceerow2_col3\" class=\"data row2 col3\" >0.589</td>\n",
       "                        <td id=\"T_397a06e8_b6fe_11ea_bb1c_38dead2b1ceerow2_col4\" class=\"data row2 col4\" >0.594</td>\n",
       "                        <td id=\"T_397a06e8_b6fe_11ea_bb1c_38dead2b1ceerow2_col5\" class=\"data row2 col5\" >0.605</td>\n",
       "                        <td id=\"T_397a06e8_b6fe_11ea_bb1c_38dead2b1ceerow2_col6\" class=\"data row2 col6\" >0.91</td>\n",
       "                        <td id=\"T_397a06e8_b6fe_11ea_bb1c_38dead2b1ceerow2_col7\" class=\"data row2 col7\" >0.981</td>\n",
       "            </tr>\n",
       "            <tr>\n",
       "                        <th id=\"T_397a06e8_b6fe_11ea_bb1c_38dead2b1ceelevel0_row3\" class=\"row_heading level0 row3\" >Recall</th>\n",
       "                        <td id=\"T_397a06e8_b6fe_11ea_bb1c_38dead2b1ceerow3_col0\" class=\"data row3 col0\" >0</td>\n",
       "                        <td id=\"T_397a06e8_b6fe_11ea_bb1c_38dead2b1ceerow3_col1\" class=\"data row3 col1\" >0.561</td>\n",
       "                        <td id=\"T_397a06e8_b6fe_11ea_bb1c_38dead2b1ceerow3_col2\" class=\"data row3 col2\" >0.558</td>\n",
       "                        <td id=\"T_397a06e8_b6fe_11ea_bb1c_38dead2b1ceerow3_col3\" class=\"data row3 col3\" >0.559</td>\n",
       "                        <td id=\"T_397a06e8_b6fe_11ea_bb1c_38dead2b1ceerow3_col4\" class=\"data row3 col4\" >0.583</td>\n",
       "                        <td id=\"T_397a06e8_b6fe_11ea_bb1c_38dead2b1ceerow3_col5\" class=\"data row3 col5\" >0.584</td>\n",
       "                        <td id=\"T_397a06e8_b6fe_11ea_bb1c_38dead2b1ceerow3_col6\" class=\"data row3 col6\" >0.876</td>\n",
       "                        <td id=\"T_397a06e8_b6fe_11ea_bb1c_38dead2b1ceerow3_col7\" class=\"data row3 col7\" >0.928</td>\n",
       "            </tr>\n",
       "    </tbody></table>"
      ],
      "text/plain": [
       "<pandas.io.formats.style.Styler at 0x15e2cd139e8>"
      ]
     },
     "metadata": {},
     "output_type": "display_data"
    },
    {
     "data": {
      "image/png": "[encoded data removed]",
      "text/plain": [
       "<Figure size 1440x360 with 1 Axes>"
      ]
     },
     "metadata": {
      "needs_background": "light"
     },
     "output_type": "display_data"
    }
   ],
   "source": [
    "fdf = pd.DataFrame({'Accuracy':[ac1, ac2, ac3, ac31, ac4, ac5, ac6, ac7],      # Final Dataframe fdf\n",
    "                    'F1Score': [f1, f2, f3, f31, f4, f5, f6, f7],\n",
    "                   'Precision': [0, pr2, pr3, pr31, pr4, pr5, pr6, pr7], \n",
    "                    'Recall': [re, re2, re3, re31, re4, re5, re6, re7]}).T\n",
    "\n",
    "fdf.rename(columns={0: 'Imbalanced LogReg', 1: 'Improved LogReg', \n",
    "                    2:'LinearSVC', 3: 'GridSearchSVC',\n",
    "                    4: 'LinearSVC100k', 5: 'XGBoost', \n",
    "                    6: 'AdaBoosting (RR)', 7: 'MLP Neural Network'}, inplace=True)\n",
    "\n",
    "\n",
    "fdf.plot(kind='bar', figsize=(20,5), rot=0, title='FINAL SUMMARY', fontsize=18)\n",
    "\n",
    "def highlights(val):\n",
    "    \n",
    "    if val < 0.6:\n",
    "        return 'background-color: default'\n",
    "    elif 0.6 <= val < 0.8:\n",
    "        return 'background-color: mistyrose'\n",
    "    elif 0.8 <= val < 0.9:\n",
    "        return 'background-color: papayawhip'\n",
    "    elif 0.9 <= val < 0.94:\n",
    "        return 'background-color: aquamarine'\n",
    "    elif val >= 0.94:\n",
    "        return 'background-color: lightgreen' \n",
    "\n",
    "cd = fdf.style.applymap(highlights)\n",
    "    \n",
    "display(cd)\n",
    "plt.show()"
   ]
  },
  {
   "cell_type": "markdown",
   "metadata": {},
   "source": [
    "#### Inferences from Summary Table:"
   ]
  },
  {
   "cell_type": "markdown",
   "metadata": {},
   "source": [
    "- **MLPCLassifier** with a single layered hidden deep network performed with outstanding performance using **SMOTE** technique on the traning dataset.\n",
    "- **AdaBoosting** over RandomForest Classifier returned the **next best results** and made a reliable and accurate model. \n",
    "    - AdaBoosting and XGBoost using **SMOTE** took 39m 41s and 11m 32s respectivey to train and hence has been excluded from this exercise. \n",
    "    - However the performance was at par with an increase of 4% in accuracy and F1-score.\n",
    "- The **other models** such as Logistic Regression, LinearSVC and XGBoost failed to peform well with Resampling techniques and **cannot** be choosen for deployment.\n",
    "\n",
    "- If not missing a positive sample is the priority, **MLP Classifier** is the best model as it returns maximum number of True Positives.\n",
    "- If not marking negative sample as positive is top priority, **XGBoost Classifier**  is a better model as it returns maximum number of False positives.\n",
    "\n",
    "\n"
   ]
  }
 ],
 "metadata": {
  "kernelspec": {
   "display_name": "Python 3",
   "language": "python",
   "name": "python3"
  },
  "language_info": {
   "codemirror_mode": {
    "name": "ipython",
    "version": 3
   },
   "file_extension": ".py",
   "mimetype": "text/x-python",
   "name": "python",
   "nbconvert_exporter": "python",
   "pygments_lexer": "ipython3",
   "version": "3.6.3"
  }
 },
 "nbformat": 4,
 "nbformat_minor": 2
}
